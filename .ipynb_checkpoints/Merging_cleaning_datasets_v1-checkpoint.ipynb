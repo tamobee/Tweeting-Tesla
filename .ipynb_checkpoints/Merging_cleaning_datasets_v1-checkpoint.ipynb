{
 "cells": [
  {
   "cell_type": "markdown",
   "metadata": {},
   "source": [
    "# Merging data frames, cleaning tweets data and compiling final data frame for analyses [CARLOS, TAMARI: NLP, MINYEONG: SpaceX and Tesla flags] "
   ]
  },
  {
   "cell_type": "code",
   "execution_count": 1,
   "metadata": {},
   "outputs": [],
   "source": [
    "# Initial imports\n",
    "import os\n",
    "import pandas as pd\n",
    "from pathlib import Path\n",
    "import numpy as np\n",
    "from datetime import date, timedelta\n",
    "from matplotlib import pyplot"
   ]
  },
  {
   "cell_type": "code",
   "execution_count": 2,
   "metadata": {},
   "outputs": [],
   "source": [
    "# Display all the text in columns\n",
    "pd.set_option('display.max_colwidth',None)"
   ]
  },
  {
   "cell_type": "markdown",
   "metadata": {},
   "source": [
    "## Elon Musks Tweet Data\n",
    "#### Start cleaning data frame for NLP and Tesla and SpaceX Flags"
   ]
  },
  {
   "cell_type": "code",
   "execution_count": 3,
   "metadata": {},
   "outputs": [],
   "source": [
    "# Import csv file with tweets for elon musk\n",
    "file_name='elon_tweets.csv'\n",
    "tweets_df = pd.read_csv(Path(f\"Resources/{file_name}\"),parse_dates=True, infer_datetime_format=True) # we do not do date as index just yet\n",
    "\n",
    "# we change the name to date column - we will drop this field later. We need a date field that shows off market hour tweets as t+1 \n",
    "tweets_df.rename(columns={'date':'date original'},inplace=True)\n",
    "tweets_df['date original']=pd.to_datetime(tweets_df['date original'])\n",
    "\n",
    "# Make tweets made after market hours fall into the following day\n",
    "# Define market hour limit as everything after 16hs 00 min 00 sec\n",
    "min_hour=16\n",
    "min_minute=0\n",
    "min_second=0\n",
    "\n",
    "# we create the new field equalt to date original \n",
    "tweets_df['date']=tweets_df['date original'].copy()\n",
    "\n",
    "# we add 1 day to date original if the tweet occured off market hours\n",
    "tweets_df.loc[(tweets_df['date original'].dt.hour>=min_hour) & (tweets_df['date original'].dt.minute>min_minute) & (tweets_df['date original'].dt.second>min_second), 'date'] = tweets_df['date original']+timedelta(days=1)\n",
    "\n",
    "# Drop original date and make the new date column as index\n",
    "tweets_df.drop(columns={'date original'}, inplace=True)\n",
    "tweets_df.set_index('date', inplace=True)\n",
    "\n",
    "# We eliminate the seconds from Tweets data frame\n",
    "tweets_df.index = tweets_df.index.date\n",
    "\n",
    "\n",
    "# Cleaning tweets\n",
    "# Multiple tweets per day \n",
    "new_tweets_df = tweets_df.groupby(tweets_df.index).agg(' '.join).sort_index()\n",
    "new_tweets_df['tweet count']=tweets_df.groupby(tweets_df.index).count().sort_index()"
   ]
  },
  {
   "cell_type": "markdown",
   "metadata": {},
   "source": [
    "## Tesla and QQQ Stock Price Data\n",
    "### Cleaning and Y generation"
   ]
  },
  {
   "cell_type": "code",
   "execution_count": 4,
   "metadata": {},
   "outputs": [
    {
     "data": {
      "text/html": [
       "<div>\n",
       "<style scoped>\n",
       "    .dataframe tbody tr th:only-of-type {\n",
       "        vertical-align: middle;\n",
       "    }\n",
       "\n",
       "    .dataframe tbody tr th {\n",
       "        vertical-align: top;\n",
       "    }\n",
       "\n",
       "    .dataframe thead th {\n",
       "        text-align: right;\n",
       "    }\n",
       "</style>\n",
       "<table border=\"1\" class=\"dataframe\">\n",
       "  <thead>\n",
       "    <tr style=\"text-align: right;\">\n",
       "      <th></th>\n",
       "      <th>TSLA</th>\n",
       "      <th>QQQ</th>\n",
       "    </tr>\n",
       "  </thead>\n",
       "  <tbody>\n",
       "    <tr>\n",
       "      <th>2010-06-29</th>\n",
       "      <td>23.94</td>\n",
       "      <td>43.40</td>\n",
       "    </tr>\n",
       "    <tr>\n",
       "      <th>2010-06-30</th>\n",
       "      <td>23.63</td>\n",
       "      <td>39.16</td>\n",
       "    </tr>\n",
       "    <tr>\n",
       "      <th>2010-07-01</th>\n",
       "      <td>21.90</td>\n",
       "      <td>42.58</td>\n",
       "    </tr>\n",
       "    <tr>\n",
       "      <th>2010-07-02</th>\n",
       "      <td>19.20</td>\n",
       "      <td>38.94</td>\n",
       "    </tr>\n",
       "    <tr>\n",
       "      <th>2010-07-06</th>\n",
       "      <td>15.98</td>\n",
       "      <td>42.60</td>\n",
       "    </tr>\n",
       "    <tr>\n",
       "      <th>2010-07-07</th>\n",
       "      <td>15.74</td>\n",
       "      <td>43.96</td>\n",
       "    </tr>\n",
       "    <tr>\n",
       "      <th>2010-07-08</th>\n",
       "      <td>17.46</td>\n",
       "      <td>44.18</td>\n",
       "    </tr>\n",
       "    <tr>\n",
       "      <th>2010-07-09</th>\n",
       "      <td>17.33</td>\n",
       "      <td>44.60</td>\n",
       "    </tr>\n",
       "    <tr>\n",
       "      <th>2010-07-12</th>\n",
       "      <td>17.00</td>\n",
       "      <td>44.75</td>\n",
       "    </tr>\n",
       "    <tr>\n",
       "      <th>2010-07-13</th>\n",
       "      <td>18.07</td>\n",
       "      <td>45.33</td>\n",
       "    </tr>\n",
       "  </tbody>\n",
       "</table>\n",
       "</div>"
      ],
      "text/plain": [
       "             TSLA    QQQ\n",
       "2010-06-29  23.94  43.40\n",
       "2010-06-30  23.63  39.16\n",
       "2010-07-01  21.90  42.58\n",
       "2010-07-02  19.20  38.94\n",
       "2010-07-06  15.98  42.60\n",
       "2010-07-07  15.74  43.96\n",
       "2010-07-08  17.46  44.18\n",
       "2010-07-09  17.33  44.60\n",
       "2010-07-12  17.00  44.75\n",
       "2010-07-13  18.07  45.33"
      ]
     },
     "execution_count": 4,
     "metadata": {},
     "output_type": "execute_result"
    }
   ],
   "source": [
    "file_name='stock_price.csv'\n",
    "stock_price_df = pd.read_csv(Path(f\"Resources/{file_name}\"),index_col='date',parse_dates=True, infer_datetime_format=True)\n",
    "\n",
    "# We create the Ys once the data frame is final\n",
    "\n",
    "# We do the same format change to data  to make sure that the fields are comparable\n",
    "stock_price_df.index = stock_price_df.index.date\n",
    "stock_price_df.head(10)"
   ]
  },
  {
   "cell_type": "markdown",
   "metadata": {},
   "source": [
    "## Merging Dataframes\n",
    " * Stock Data + Raw Tweets "
   ]
  },
  {
   "cell_type": "code",
   "execution_count": 5,
   "metadata": {},
   "outputs": [],
   "source": [
    "# Join data frames. Outer is used to not leave any data point behind. \n",
    " \n",
    "merged_df=stock_price_df.join(new_tweets_df,how='outer')\n",
    "merged_df.index = pd.to_datetime(merged_df.index)\n",
    "merged_df=merged_df.loc['2010-06-29':]\n",
    "\n",
    "# merged_df.head()\n",
    "# merged_df.loc['2011-12-01':'2011-12-06'].head(6)"
   ]
  },
  {
   "cell_type": "markdown",
   "metadata": {},
   "source": [
    "## Cleaning Merged Data Frame\n",
    " * Move tweets to next trading day (i.e. push forward tweets made on weekends and holidays)"
   ]
  },
  {
   "cell_type": "code",
   "execution_count": 6,
   "metadata": {},
   "outputs": [],
   "source": [
    "clean_df=merged_df.copy()\n",
    "# weekend fix - tweets\n",
    "clean_df['NO_NaN']=np.where(clean_df['TSLA'].notnull() & clean_df['tweet'].notnull(),clean_df['tweet'],'')\n",
    "clean_df['NaN1']=np.where(clean_df['TSLA'].shift(1).isnull() & clean_df['tweet'].notnull().shift(1),clean_df['tweet'].shift(1),'')\n",
    "clean_df['NaN2']=np.where(clean_df['TSLA'].shift(1).isnull() & clean_df['tweet'].notnull().shift(1),clean_df['NaN1'].shift(1),'')\n",
    "clean_df['NaN3']=np.where(clean_df['TSLA'].shift(1).isnull() & clean_df['tweet'].notnull().shift(1),clean_df['NaN2'].shift(1),'')\n",
    "clean_df['NaN4']=np.where(clean_df['TSLA'].shift(1).isnull() & clean_df['tweet'].notnull().shift(1),clean_df['NaN3'].shift(1),'')\n",
    "\n",
    "clean_df['tweet clean']= \\\n",
    "    clean_df['NO_NaN'][clean_df['TSLA'].notnull()] + ' ' + \\\n",
    "    clean_df['NaN1'][clean_df['TSLA'].notnull()] + ' ' + \\\n",
    "    clean_df['NaN2'][clean_df['TSLA'].notnull()] + ' ' + \\\n",
    "    clean_df['NaN3'][clean_df['TSLA'].notnull()] + ' ' + \\\n",
    "    clean_df['NaN3'][clean_df['TSLA'].notnull()] \n",
    "\n",
    "# Drop intermidiate columns created\n",
    "clean_df.drop(columns=['NO_NaN','NaN1','NaN2','NaN3','NaN4'],inplace=True)\n",
    "\n",
    "\n",
    "# weekend fix - tweet count; create intermidiate fields that move tweet count fields to the closest next weekday \n",
    "clean_df['NO_NaN']=np.where(clean_df['TSLA'].notnull() & clean_df['tweet count'].notnull(),clean_df['tweet count'],0)\n",
    "clean_df['NaN1']=np.where(clean_df['TSLA'].shift(1).isnull() & clean_df['tweet count'].notnull().shift(1),clean_df['tweet count'].shift(1),0)\n",
    "clean_df['NaN2']=np.where(clean_df['TSLA'].shift(1).isnull() & clean_df['tweet count'].notnull().shift(1),clean_df['NaN1'].shift(1),0)\n",
    "clean_df['NaN3']=np.where(clean_df['TSLA'].shift(1).isnull() & clean_df['tweet count'].notnull().shift(1),clean_df['NaN2'].shift(1),0)\n",
    "# not needed - in case there are 4 non market days in a row\n",
    "clean_df['NaN4']=np.where(clean_df['TSLA'].shift(1).isnull() & clean_df['tweet count'].notnull().shift(1),clean_df['NaN3'].shift(1),0)\n",
    "\n",
    "# summ accross intermidiate fields\n",
    "clean_df['tweet count clean']= \\\n",
    "    clean_df['NO_NaN'][clean_df['TSLA'].notnull()].astype(int) + \\\n",
    "    clean_df['NaN1'][clean_df['TSLA'].notnull()].astype(int) + \\\n",
    "    clean_df['NaN2'][clean_df['TSLA'].notnull()].astype(int) + \\\n",
    "    clean_df['NaN3'][clean_df['TSLA'].notnull()].astype(int) + \\\n",
    "    clean_df['NaN4'][clean_df['TSLA'].notnull()].astype(int)\n",
    "\n",
    "# Drop intermidiate columns created\n",
    "clean_df.drop(columns=['NO_NaN','NaN1','NaN2','NaN3','NaN4','tweet','tweet count'],inplace=True)\n",
    "\n",
    "\n",
    "# Add NaNs in empty strings\n",
    "clean_df['tweet clean'].replace(r'^\\s*$',np.NaN,inplace=True, regex=True)\n",
    "\n",
    "# Drop weekends and holidays; i.e. days with no market data\n",
    "clean_df.dropna(subset=['TSLA'],inplace=True)\n",
    "\n"
   ]
  },
  {
   "cell_type": "code",
   "execution_count": null,
   "metadata": {},
   "outputs": [],
   "source": []
  },
  {
   "cell_type": "code",
   "execution_count": 7,
   "metadata": {},
   "outputs": [],
   "source": [
    "# Export clean tweets files to run NLP and SpaceX and Tesla Flags\n",
    "\n",
    "save_csv=False\n",
    "\n",
    "# Create clean data frame in the same format than the original\n",
    "clean_tweets_df=pd.DataFrame(clean_df['tweet clean'])\n",
    "clean_tweets_df.index.name='date'\n",
    "clean_tweets_df.rename(columns={'tweet clean':'tweet'},inplace=True)\n",
    "clean_tweets_df.head()\n",
    "\n",
    "if save_csv==True:\n",
    "    # Save data frame in csv file\n",
    "    file_name=\"clean_elon_tweets_vF.csv\"\n",
    "    output_file = Path(f\"Resources/{file_name}\")\n",
    "    clean_tweets_df.to_csv(f\"{output_file}\")"
   ]
  },
  {
   "cell_type": "markdown",
   "metadata": {},
   "source": [
    "## Merging NLP dataframes - [TAMARI]"
   ]
  },
  {
   "cell_type": "code",
   "execution_count": 8,
   "metadata": {},
   "outputs": [],
   "source": [
    "#Import CSV created by Tamari\n",
    "# Merge NLP dataframe with rest of fields"
   ]
  },
  {
   "cell_type": "markdown",
   "metadata": {},
   "source": [
    "## Merging SpaceX and Tesla Flags - [MINYEONG]"
   ]
  },
  {
   "cell_type": "code",
   "execution_count": 9,
   "metadata": {},
   "outputs": [
    {
     "data": {
      "text/html": [
       "<div>\n",
       "<style scoped>\n",
       "    .dataframe tbody tr th:only-of-type {\n",
       "        vertical-align: middle;\n",
       "    }\n",
       "\n",
       "    .dataframe tbody tr th {\n",
       "        vertical-align: top;\n",
       "    }\n",
       "\n",
       "    .dataframe thead th {\n",
       "        text-align: right;\n",
       "    }\n",
       "</style>\n",
       "<table border=\"1\" class=\"dataframe\">\n",
       "  <thead>\n",
       "    <tr style=\"text-align: right;\">\n",
       "      <th></th>\n",
       "      <th>TSLA</th>\n",
       "      <th>QQQ</th>\n",
       "      <th>tweet clean</th>\n",
       "      <th>tweet count clean</th>\n",
       "    </tr>\n",
       "    <tr>\n",
       "      <th>date</th>\n",
       "      <th></th>\n",
       "      <th></th>\n",
       "      <th></th>\n",
       "      <th></th>\n",
       "    </tr>\n",
       "  </thead>\n",
       "  <tbody>\n",
       "    <tr>\n",
       "      <th>2010-06-29</th>\n",
       "      <td>23.94</td>\n",
       "      <td>43.40</td>\n",
       "      <td>NaN</td>\n",
       "      <td>0.0</td>\n",
       "    </tr>\n",
       "    <tr>\n",
       "      <th>2010-06-30</th>\n",
       "      <td>23.63</td>\n",
       "      <td>39.16</td>\n",
       "      <td>NaN</td>\n",
       "      <td>0.0</td>\n",
       "    </tr>\n",
       "    <tr>\n",
       "      <th>2010-07-01</th>\n",
       "      <td>21.90</td>\n",
       "      <td>42.58</td>\n",
       "      <td>NaN</td>\n",
       "      <td>0.0</td>\n",
       "    </tr>\n",
       "    <tr>\n",
       "      <th>2010-07-02</th>\n",
       "      <td>19.20</td>\n",
       "      <td>38.94</td>\n",
       "      <td>NaN</td>\n",
       "      <td>0.0</td>\n",
       "    </tr>\n",
       "    <tr>\n",
       "      <th>2010-07-06</th>\n",
       "      <td>15.98</td>\n",
       "      <td>42.60</td>\n",
       "      <td>NaN</td>\n",
       "      <td>0.0</td>\n",
       "    </tr>\n",
       "  </tbody>\n",
       "</table>\n",
       "</div>"
      ],
      "text/plain": [
       "             TSLA    QQQ tweet clean  tweet count clean\n",
       "date                                                   \n",
       "2010-06-29  23.94  43.40         NaN                0.0\n",
       "2010-06-30  23.63  39.16         NaN                0.0\n",
       "2010-07-01  21.90  42.58         NaN                0.0\n",
       "2010-07-02  19.20  38.94         NaN                0.0\n",
       "2010-07-06  15.98  42.60         NaN                0.0"
      ]
     },
     "execution_count": 9,
     "metadata": {},
     "output_type": "execute_result"
    }
   ],
   "source": [
    "#Import CSV created by Minyeong or fancier if we use functions?\n",
    "# Merge flags dataframe with rest of fields\n",
    "clean_df.head()"
   ]
  },
  {
   "cell_type": "markdown",
   "metadata": {},
   "source": [
    "## Finalizing Final Data Frame "
   ]
  },
  {
   "cell_type": "code",
   "execution_count": 10,
   "metadata": {},
   "outputs": [],
   "source": [
    "# renaming fields\n",
    "clean_df.rename(columns={'tweet clean':'tweet','tweet count clean':'tweet count'},inplace=True)\n",
    "\n",
    "# Creating Y variables\n",
    "clean_df['Y_d1_pr_change_diff']=clean_df['TSLA'].pct_change()-clean_df['QQQ'].pct_change()\n",
    "clean_df['Y_d5_pr_change_diff']=clean_df['TSLA'].pct_change(periods=5)-clean_df['QQQ'].pct_change(periods=5)\n",
    "\n",
    "# Creating 1 / 0 flag for tweet made\n",
    "clean_df['tweet flag']=np.where(clean_df['tweet'].notnull(),1,0) \n"
   ]
  },
  {
   "cell_type": "code",
   "execution_count": 11,
   "metadata": {},
   "outputs": [
    {
     "data": {
      "text/html": [
       "<div>\n",
       "<style scoped>\n",
       "    .dataframe tbody tr th:only-of-type {\n",
       "        vertical-align: middle;\n",
       "    }\n",
       "\n",
       "    .dataframe tbody tr th {\n",
       "        vertical-align: top;\n",
       "    }\n",
       "\n",
       "    .dataframe thead th {\n",
       "        text-align: right;\n",
       "    }\n",
       "</style>\n",
       "<table border=\"1\" class=\"dataframe\">\n",
       "  <thead>\n",
       "    <tr style=\"text-align: right;\">\n",
       "      <th></th>\n",
       "      <th>TSLA</th>\n",
       "      <th>QQQ</th>\n",
       "      <th>Y_d1_pr_change_diff</th>\n",
       "      <th>Y_d5_pr_change_diff</th>\n",
       "      <th>tweet</th>\n",
       "      <th>tweet count</th>\n",
       "      <th>tweet flag</th>\n",
       "    </tr>\n",
       "    <tr>\n",
       "      <th>date</th>\n",
       "      <th></th>\n",
       "      <th></th>\n",
       "      <th></th>\n",
       "      <th></th>\n",
       "      <th></th>\n",
       "      <th></th>\n",
       "      <th></th>\n",
       "    </tr>\n",
       "  </thead>\n",
       "  <tbody>\n",
       "    <tr>\n",
       "      <th>2010-06-29</th>\n",
       "      <td>23.94</td>\n",
       "      <td>43.40</td>\n",
       "      <td>NaN</td>\n",
       "      <td>NaN</td>\n",
       "      <td>NaN</td>\n",
       "      <td>0.0</td>\n",
       "      <td>0</td>\n",
       "    </tr>\n",
       "    <tr>\n",
       "      <th>2010-06-30</th>\n",
       "      <td>23.63</td>\n",
       "      <td>39.16</td>\n",
       "      <td>0.084747</td>\n",
       "      <td>NaN</td>\n",
       "      <td>NaN</td>\n",
       "      <td>0.0</td>\n",
       "      <td>0</td>\n",
       "    </tr>\n",
       "    <tr>\n",
       "      <th>2010-07-01</th>\n",
       "      <td>21.90</td>\n",
       "      <td>42.58</td>\n",
       "      <td>-0.160546</td>\n",
       "      <td>NaN</td>\n",
       "      <td>NaN</td>\n",
       "      <td>0.0</td>\n",
       "      <td>0</td>\n",
       "    </tr>\n",
       "    <tr>\n",
       "      <th>2010-07-02</th>\n",
       "      <td>19.20</td>\n",
       "      <td>38.94</td>\n",
       "      <td>-0.037802</td>\n",
       "      <td>NaN</td>\n",
       "      <td>NaN</td>\n",
       "      <td>0.0</td>\n",
       "      <td>0</td>\n",
       "    </tr>\n",
       "    <tr>\n",
       "      <th>2010-07-06</th>\n",
       "      <td>15.98</td>\n",
       "      <td>42.60</td>\n",
       "      <td>-0.261699</td>\n",
       "      <td>NaN</td>\n",
       "      <td>NaN</td>\n",
       "      <td>0.0</td>\n",
       "      <td>0</td>\n",
       "    </tr>\n",
       "    <tr>\n",
       "      <th>...</th>\n",
       "      <td>...</td>\n",
       "      <td>...</td>\n",
       "      <td>...</td>\n",
       "      <td>...</td>\n",
       "      <td>...</td>\n",
       "      <td>...</td>\n",
       "      <td>...</td>\n",
       "    </tr>\n",
       "    <tr>\n",
       "      <th>2021-01-08</th>\n",
       "      <td>880.03</td>\n",
       "      <td>319.09</td>\n",
       "      <td>0.065263</td>\n",
       "      <td>0.230359</td>\n",
       "      <td>@Erdayastronaut @lexfridman Or at least the option for verification, so that the public can ascribe more credibility to verified vs unverified accounts Launch underway Btw, critical feedback is always super appreciated, as well as ways to donate money that really make a difference (way harder than it seems) @eugenelee3 @engineers_feed Yup @engineers_feed Indirectly, an electric rocket is possible by using electricity to convert CO2+H2O —&amp;gt; CH4+O2. This will be needed on Mars even for early missions &amp;amp; Earth too over time. @engineers_feed Not to get to orbit, unfortunately. In space, photon emission powered by matter-antimatter annihilation would rock, but that’s more of a long-term solution.</td>\n",
       "      <td>6.0</td>\n",
       "      <td>1</td>\n",
       "    </tr>\n",
       "    <tr>\n",
       "      <th>2021-01-11</th>\n",
       "      <td>811.18</td>\n",
       "      <td>314.31</td>\n",
       "      <td>-0.063256</td>\n",
       "      <td>0.095191</td>\n",
       "      <td>@archillect Once in a while, something happens that is even better than we imagined @skorusARK The factory is the product @AustinTeslaClub @TheBabylonBee Probably commenting on @signalapp will do more @PPathole I bought the replacement glass from a junkyard for $20. They’re great places to get spare parts. @TheBabylonBee A lot of people are going to be super unhappy with West Coast high tech as the de facto arbiter of free speech @alexandersibert @signalapp Already donated to Signal a year ago. Will donate more. @benmezrich I am primarily trying to advance two causes: sustainable energy &amp;amp; extending life/consciousness beyond Earth. There is also the existential threat of AI, which we should aspire to mitigate. This doesn’t leave time to write books. @Ragazaga5 @SpacePadreIsle Maybe a Tesla AI day later this year @SpacePadreIsle The Prancing Pony? @BoredElonMusk 🤣🤣 @song_wooseok @GerberKawasaki @benmezrich 🤣🤣 @erigganewmoney 😢 @mayemusk It’s true @glenn22x @woketopiansa Yes, but not for long @woketopiansa Yeah, they seemed optimistic too My 14-year-old son, Saxon, said he feels like 2021 will be a good year. I agree. Let us all make it so. @Erdayastronaut @SpaceX Was also thinking that SpaceX Boca should hold fun parties and give tours for the community from time to time @Erdayastronaut @SpaceX I super support public spaces around our production &amp;amp; launch sites, wherever it can be done safely and securely. When covid passes, we will open up our restaurant to the public &amp;amp; figure out ways to allow limited access to the High Bar. @Christo49699922 @sean18743005 @Erdayastronaut @SpaceX That too @sean18743005 @Erdayastronaut @SpaceX Catapult high into the air &amp;amp; land on the roof with a base jumping parachute (the only way to travel) @Erdayastronaut @SpaceX That’s actually our restaurant, but SpaceX is building a futuristic bar at the top of the high bay with 360 degree windows &amp;amp; a glass floor looking down on the rocket factory @techreview And increase fun! Hopefully. @benmezrich Me neither @TonyChoMrMagic @TeslaEnergy One of the best Tesla Solar Roof installations @91demigod No, but maybe one day @PPathole @engineers_feed Yes, that would be the best way to do it. A large solar field or reactor is needed for power, and then some ice mining droids or long maneuvering drills are needed for the H2O. These are probably the trickier bits. @engineers_feed His sick beats  https://t.co/8PbsgffzRp @flcnhvy Probably less than a few dozen primary decision-makers. Technically, only three.</td>\n",
       "      <td>28.0</td>\n",
       "      <td>1</td>\n",
       "    </tr>\n",
       "    <tr>\n",
       "      <th>2021-01-12</th>\n",
       "      <td>849.22</td>\n",
       "      <td>313.98</td>\n",
       "      <td>0.047945</td>\n",
       "      <td>0.148226</td>\n",
       "      <td>@SpaceX @Space_Station One day, we will get a camera up there that also shows the star field in the background @MachinePix The robot future is coming @wonderofscience @physicsJ 300km every millisecond, but there are times I wish it were faster  https://t.co/TKkruvgBth  https://t.co/ocy2gFRYvN @iamdevloper  https://t.co/BkKeiIicYe Mus protec 👶 yoda  https://t.co/1dvhG0nTkU @roscosmos Он был великолепен @RationalEtienne @TheBabylonBee This is an important distinction @ValaAfshar Much more than this &amp;amp; increasing rapidly @CodingMark @flcnhvy It is</td>\n",
       "      <td>10.0</td>\n",
       "      <td>1</td>\n",
       "    </tr>\n",
       "    <tr>\n",
       "      <th>2021-01-13</th>\n",
       "      <td>854.42</td>\n",
       "      <td>316.00</td>\n",
       "      <td>-0.000310</td>\n",
       "      <td>0.102090</td>\n",
       "      <td>@NASASpaceflight Sea shanty tiktok takes it to a new level with actual pirate ships @ConnectDotsToo Sure Today at SpaceX is about practicing Starship engine starts. Ship is held down by massive pins while engines are fired. Two starts completed, about to try a third. @Tesmanian_com As promised Legalize comedy @lvladimirovBG You can steal our name/logos &amp;amp; we probably won’t sue you @arstechnica @SciGuySpace We’re just trying to get people to Mars. Help would be appreciated. @lexfridman Suicide is more than double homicide  https://t.co/MvWGPs9uQE @lexfridman Absolutely Hey you … Yeah you Queen … You’re gonna make it! 💕💕  https://t.co/LrqdIrbIyd @TheOldManPar @DJSnM @MachinePix Hate to say it, but might be true</td>\n",
       "      <td>11.0</td>\n",
       "      <td>1</td>\n",
       "    </tr>\n",
       "    <tr>\n",
       "      <th>2021-01-14</th>\n",
       "      <td>844.21</td>\n",
       "      <td>314.25</td>\n",
       "      <td>-0.006412</td>\n",
       "      <td>0.036743</td>\n",
       "      <td>@skorusARK Prototypes are easy, volume production is hard, positive cash flow is  excruciating @Tesla Physics @Erdayastronaut Detanking &amp;amp; inspections now. Good progress towards our “Hop in &amp;amp; go to Mars!” goal. All three static fires completed &amp;amp; no RUDs! @justpaulinelol @Erdayastronaut @SpaceX Wow, a lot has happened in 10 years! @OfficialJlipper Fair enough haha  https://t.co/ho7yGXAS3a</td>\n",
       "      <td>7.0</td>\n",
       "      <td>1</td>\n",
       "    </tr>\n",
       "  </tbody>\n",
       "</table>\n",
       "<p>2656 rows × 7 columns</p>\n",
       "</div>"
      ],
      "text/plain": [
       "              TSLA     QQQ  Y_d1_pr_change_diff  Y_d5_pr_change_diff  \\\n",
       "date                                                                   \n",
       "2010-06-29   23.94   43.40                  NaN                  NaN   \n",
       "2010-06-30   23.63   39.16             0.084747                  NaN   \n",
       "2010-07-01   21.90   42.58            -0.160546                  NaN   \n",
       "2010-07-02   19.20   38.94            -0.037802                  NaN   \n",
       "2010-07-06   15.98   42.60            -0.261699                  NaN   \n",
       "...            ...     ...                  ...                  ...   \n",
       "2021-01-08  880.03  319.09             0.065263             0.230359   \n",
       "2021-01-11  811.18  314.31            -0.063256             0.095191   \n",
       "2021-01-12  849.22  313.98             0.047945             0.148226   \n",
       "2021-01-13  854.42  316.00            -0.000310             0.102090   \n",
       "2021-01-14  844.21  314.25            -0.006412             0.036743   \n",
       "\n",
       "                                                                                                                                                                                                                                                                                                                                                                                                                                                                                                                                                                                                                                                                                                                                                                                                                                                                                                                                                                                                                                                                                                                                                                                                                                                                                                                                                                                                                                                                                                                                                                                                                                                                                                                                                                                                                                                                                                                                                                                                                                                                                                                                                                                                                                                                                                                                                                                                                                                                                                                                                                                                                                           tweet  \\\n",
       "date                                                                                                                                                                                                                                                                                                                                                                                                                                                                                                                                                                                                                                                                                                                                                                                                                                                                                                                                                                                                                                                                                                                                                                                                                                                                                                                                                                                                                                                                                                                                                                                                                                                                                                                                                                                                                                                                                                                                                                                                                                                                                                                                                                                                                                                                                                                                                                                                                                                                                                                                                                                                                                               \n",
       "2010-06-29                                                                                                                                                                                                                                                                                                                                                                                                                                                                                                                                                                                                                                                                                                                                                                                                                                                                                                                                                                                                                                                                                                                                                                                                                                                                                                                                                                                                                                                                                                                                                                                                                                                                                                                                                                                                                                                                                                                                                                                                                                                                                                                                                                                                                                                                                                                                                                                                                                                                                                                                                                                                                                   NaN   \n",
       "2010-06-30                                                                                                                                                                                                                                                                                                                                                                                                                                                                                                                                                                                                                                                                                                                                                                                                                                                                                                                                                                                                                                                                                                                                                                                                                                                                                                                                                                                                                                                                                                                                                                                                                                                                                                                                                                                                                                                                                                                                                                                                                                                                                                                                                                                                                                                                                                                                                                                                                                                                                                                                                                                                                                   NaN   \n",
       "2010-07-01                                                                                                                                                                                                                                                                                                                                                                                                                                                                                                                                                                                                                                                                                                                                                                                                                                                                                                                                                                                                                                                                                                                                                                                                                                                                                                                                                                                                                                                                                                                                                                                                                                                                                                                                                                                                                                                                                                                                                                                                                                                                                                                                                                                                                                                                                                                                                                                                                                                                                                                                                                                                                                   NaN   \n",
       "2010-07-02                                                                                                                                                                                                                                                                                                                                                                                                                                                                                                                                                                                                                                                                                                                                                                                                                                                                                                                                                                                                                                                                                                                                                                                                                                                                                                                                                                                                                                                                                                                                                                                                                                                                                                                                                                                                                                                                                                                                                                                                                                                                                                                                                                                                                                                                                                                                                                                                                                                                                                                                                                                                                                   NaN   \n",
       "2010-07-06                                                                                                                                                                                                                                                                                                                                                                                                                                                                                                                                                                                                                                                                                                                                                                                                                                                                                                                                                                                                                                                                                                                                                                                                                                                                                                                                                                                                                                                                                                                                                                                                                                                                                                                                                                                                                                                                                                                                                                                                                                                                                                                                                                                                                                                                                                                                                                                                                                                                                                                                                                                                                                   NaN   \n",
       "...                                                                                                                                                                                                                                                                                                                                                                                                                                                                                                                                                                                                                                                                                                                                                                                                                                                                                                                                                                                                                                                                                                                                                                                                                                                                                                                                                                                                                                                                                                                                                                                                                                                                                                                                                                                                                                                                                                                                                                                                                                                                                                                                                                                                                                                                                                                                                                                                                                                                                                                                                                                                                                          ...   \n",
       "2021-01-08                                                                                                                                                                                                                                                                                                                                                                                                                                                                                                                                                                                                                                                                                                                                                                                                                                                                                                                                                                                                                                                                                                                                                                                                                                                                                                                                                                                                                                                                                                                                                                                                                                                                                                                                                                                                                                                                                                 @Erdayastronaut @lexfridman Or at least the option for verification, so that the public can ascribe more credibility to verified vs unverified accounts Launch underway Btw, critical feedback is always super appreciated, as well as ways to donate money that really make a difference (way harder than it seems) @eugenelee3 @engineers_feed Yup @engineers_feed Indirectly, an electric rocket is possible by using electricity to convert CO2+H2O —&gt; CH4+O2. This will be needed on Mars even for early missions &amp; Earth too over time. @engineers_feed Not to get to orbit, unfortunately. In space, photon emission powered by matter-antimatter annihilation would rock, but that’s more of a long-term solution.       \n",
       "2021-01-11  @archillect Once in a while, something happens that is even better than we imagined @skorusARK The factory is the product @AustinTeslaClub @TheBabylonBee Probably commenting on @signalapp will do more @PPathole I bought the replacement glass from a junkyard for $20. They’re great places to get spare parts. @TheBabylonBee A lot of people are going to be super unhappy with West Coast high tech as the de facto arbiter of free speech @alexandersibert @signalapp Already donated to Signal a year ago. Will donate more. @benmezrich I am primarily trying to advance two causes: sustainable energy &amp; extending life/consciousness beyond Earth. There is also the existential threat of AI, which we should aspire to mitigate. This doesn’t leave time to write books. @Ragazaga5 @SpacePadreIsle Maybe a Tesla AI day later this year @SpacePadreIsle The Prancing Pony? @BoredElonMusk 🤣🤣 @song_wooseok @GerberKawasaki @benmezrich 🤣🤣 @erigganewmoney 😢 @mayemusk It’s true @glenn22x @woketopiansa Yes, but not for long @woketopiansa Yeah, they seemed optimistic too My 14-year-old son, Saxon, said he feels like 2021 will be a good year. I agree. Let us all make it so. @Erdayastronaut @SpaceX Was also thinking that SpaceX Boca should hold fun parties and give tours for the community from time to time @Erdayastronaut @SpaceX I super support public spaces around our production &amp; launch sites, wherever it can be done safely and securely. When covid passes, we will open up our restaurant to the public &amp; figure out ways to allow limited access to the High Bar. @Christo49699922 @sean18743005 @Erdayastronaut @SpaceX That too @sean18743005 @Erdayastronaut @SpaceX Catapult high into the air &amp; land on the roof with a base jumping parachute (the only way to travel) @Erdayastronaut @SpaceX That’s actually our restaurant, but SpaceX is building a futuristic bar at the top of the high bay with 360 degree windows &amp; a glass floor looking down on the rocket factory @techreview And increase fun! Hopefully. @benmezrich Me neither @TonyChoMrMagic @TeslaEnergy One of the best Tesla Solar Roof installations @91demigod No, but maybe one day @PPathole @engineers_feed Yes, that would be the best way to do it. A large solar field or reactor is needed for power, and then some ice mining droids or long maneuvering drills are needed for the H2O. These are probably the trickier bits. @engineers_feed His sick beats  https://t.co/8PbsgffzRp @flcnhvy Probably less than a few dozen primary decision-makers. Technically, only three.     \n",
       "2021-01-12                                                                                                                                                                                                                                                                                                                                                                                                                                                                                                                                                                                                                                                                                                                                                                                                                                                                                                                                                                                                                                                                                                                                                                                                                                                                                                                                                                                                                                                                                                                                                                                                                                                                                                                                                                                                                                                                                                                                                                                                                                                         @SpaceX @Space_Station One day, we will get a camera up there that also shows the star field in the background @MachinePix The robot future is coming @wonderofscience @physicsJ 300km every millisecond, but there are times I wish it were faster  https://t.co/TKkruvgBth  https://t.co/ocy2gFRYvN @iamdevloper  https://t.co/BkKeiIicYe Mus protec 👶 yoda  https://t.co/1dvhG0nTkU @roscosmos Он был великолепен @RationalEtienne @TheBabylonBee This is an important distinction @ValaAfshar Much more than this &amp; increasing rapidly @CodingMark @flcnhvy It is       \n",
       "2021-01-13                                                                                                                                                                                                                                                                                                                                                                                                                                                                                                                                                                                                                                                                                                                                                                                                                                                                                                                                                                                                                                                                                                                                                                                                                                                                                                                                                                                                                                                                                                                                                                                                                                                                                                                                                                                                                                                                                 @NASASpaceflight Sea shanty tiktok takes it to a new level with actual pirate ships @ConnectDotsToo Sure Today at SpaceX is about practicing Starship engine starts. Ship is held down by massive pins while engines are fired. Two starts completed, about to try a third. @Tesmanian_com As promised Legalize comedy @lvladimirovBG You can steal our name/logos &amp; we probably won’t sue you @arstechnica @SciGuySpace We’re just trying to get people to Mars. Help would be appreciated. @lexfridman Suicide is more than double homicide  https://t.co/MvWGPs9uQE @lexfridman Absolutely Hey you … Yeah you Queen … You’re gonna make it! 💕💕  https://t.co/LrqdIrbIyd @TheOldManPar @DJSnM @MachinePix Hate to say it, but might be true       \n",
       "2021-01-14                                                                                                                                                                                                                                                                                                                                                                                                                                                                                                                                                                                                                                                                                                                                                                                                                                                                                                                                                                                                                                                                                                                                                                                                                                                                                                                                                                                                                                                                                                                                                                                                                                                                                                                                                                                                                                                                                                                                                                                                                                                                                                                                                                                                                 @skorusARK Prototypes are easy, volume production is hard, positive cash flow is  excruciating @Tesla Physics @Erdayastronaut Detanking &amp; inspections now. Good progress towards our “Hop in &amp; go to Mars!” goal. All three static fires completed &amp; no RUDs! @justpaulinelol @Erdayastronaut @SpaceX Wow, a lot has happened in 10 years! @OfficialJlipper Fair enough haha  https://t.co/ho7yGXAS3a       \n",
       "\n",
       "            tweet count  tweet flag  \n",
       "date                                 \n",
       "2010-06-29          0.0           0  \n",
       "2010-06-30          0.0           0  \n",
       "2010-07-01          0.0           0  \n",
       "2010-07-02          0.0           0  \n",
       "2010-07-06          0.0           0  \n",
       "...                 ...         ...  \n",
       "2021-01-08          6.0           1  \n",
       "2021-01-11         28.0           1  \n",
       "2021-01-12         10.0           1  \n",
       "2021-01-13         11.0           1  \n",
       "2021-01-14          7.0           1  \n",
       "\n",
       "[2656 rows x 7 columns]"
      ]
     },
     "execution_count": 11,
     "metadata": {},
     "output_type": "execute_result"
    }
   ],
   "source": [
    "clean_df[['TSLA','QQQ','Y_d1_pr_change_diff','Y_d5_pr_change_diff','tweet','tweet count', 'tweet flag']]"
   ]
  },
  {
   "cell_type": "code",
   "execution_count": null,
   "metadata": {},
   "outputs": [],
   "source": []
  },
  {
   "cell_type": "code",
   "execution_count": null,
   "metadata": {},
   "outputs": [],
   "source": []
  },
  {
   "cell_type": "code",
   "execution_count": null,
   "metadata": {},
   "outputs": [],
   "source": []
  },
  {
   "cell_type": "markdown",
   "metadata": {},
   "source": [
    "# DRAFT - to be deleted \n",
    "# Charts - Team discussion Only "
   ]
  },
  {
   "cell_type": "code",
   "execution_count": 12,
   "metadata": {},
   "outputs": [
    {
     "data": {
      "text/plain": [
       "<AxesSubplot:title={'center':'Number of tweets per day'}, xlabel='date'>"
      ]
     },
     "execution_count": 12,
     "metadata": {},
     "output_type": "execute_result"
    },
    {
     "data": {
      "image/png": "[encoded data removed]",
      "text/plain": [
       "<Figure size 1080x720 with 1 Axes>"
      ]
     },
     "metadata": {
      "needs_background": "light"
     },
     "output_type": "display_data"
    }
   ],
   "source": [
    "clean_df['tweet count'].plot(figsize=(15,10), title='Number of tweets per day')"
   ]
  },
  {
   "cell_type": "code",
   "execution_count": 13,
   "metadata": {},
   "outputs": [
    {
     "data": {
      "text/plain": [
       "<AxesSubplot:xlabel='Y_d1_pr_change_diff', ylabel='tweet flag'>"
      ]
     },
     "execution_count": 13,
     "metadata": {},
     "output_type": "execute_result"
    },
    {
     "data": {
      "image/png": "[encoded data removed]",
      "text/plain": [
       "<Figure size 1080x720 with 1 Axes>"
      ]
     },
     "metadata": {
      "needs_background": "light"
     },
     "output_type": "display_data"
    }
   ],
   "source": [
    "clean_df.plot.scatter(x='Y_d1_pr_change_diff',\n",
    "                      y='tweet flag',\n",
    "                      figsize=(15,10)\n",
    "                      )"
   ]
  },
  {
   "cell_type": "code",
   "execution_count": 14,
   "metadata": {},
   "outputs": [
    {
     "data": {
      "text/plain": [
       "1147"
      ]
     },
     "execution_count": 14,
     "metadata": {},
     "output_type": "execute_result"
    }
   ],
   "source": [
    "clean_df.describe()\n",
    "clean_df['Y_d1_pr_change_diff'].loc[clean_df['tweet flag']==0].count()"
   ]
  },
  {
   "cell_type": "code",
   "execution_count": 15,
   "metadata": {},
   "outputs": [
    {
     "data": {
      "image/png": "[encoded data removed]",
      "text/plain": [
       "<Figure size 1440x576 with 1 Axes>"
      ]
     },
     "metadata": {
      "needs_background": "light"
     },
     "output_type": "display_data"
    }
   ],
   "source": [
    "# Histograms of pct change differenctial - 5 days change\n",
    "x=clean_df['Y_d1_pr_change_diff'].loc[clean_df['tweet flag']==1]\n",
    "y=clean_df['Y_d1_pr_change_diff'].loc[clean_df['tweet flag']==0]\n",
    "bins = np.linspace(-0.2, 0.2)\n",
    "\n",
    "pyplot.figure(figsize=(20,8))\n",
    "pyplot.title('a')\n",
    "pyplot.hist(x, bins, alpha=0.5, label='tweet made',weights = np.ones_like(x) / len(x))\n",
    "pyplot.hist(y, bins, alpha=0.5, label='no tweets',weights = np.ones_like(y) / len(y))\n",
    "pyplot.legend(loc='upper right')\n",
    "pyplot.show()"
   ]
  },
  {
   "cell_type": "code",
   "execution_count": 16,
   "metadata": {},
   "outputs": [
    {
     "data": {
      "text/plain": [
       "0.0025644442203126097"
      ]
     },
     "execution_count": 16,
     "metadata": {},
     "output_type": "execute_result"
    }
   ],
   "source": [
    "x.mean()"
   ]
  },
  {
   "cell_type": "code",
   "execution_count": 17,
   "metadata": {},
   "outputs": [
    {
     "data": {
      "text/plain": [
       "-0.0003271188131678013"
      ]
     },
     "execution_count": 17,
     "metadata": {},
     "output_type": "execute_result"
    }
   ],
   "source": [
    "y.mean()"
   ]
  },
  {
   "cell_type": "code",
   "execution_count": null,
   "metadata": {},
   "outputs": [],
   "source": []
  },
  {
   "cell_type": "code",
   "execution_count": null,
   "metadata": {},
   "outputs": [],
   "source": []
  },
  {
   "cell_type": "code",
   "execution_count": null,
   "metadata": {},
   "outputs": [],
   "source": []
  },
  {
   "cell_type": "code",
   "execution_count": 18,
   "metadata": {},
   "outputs": [],
   "source": [
    "# Export csv files with stock prices\n",
    "# file_name=\"test1.csv\"\n",
    "# output_file = Path(f\"Resources/{file_name}\")\n",
    "# clean_df.to_csv(f\"{output_file}\")"
   ]
  },
  {
   "cell_type": "code",
   "execution_count": null,
   "metadata": {},
   "outputs": [],
   "source": []
  }
 ],
 "metadata": {
  "kernelspec": {
   "display_name": "Python 3",
   "language": "python",
   "name": "python3"
  },
  "language_info": {
   "codemirror_mode": {
    "name": "ipython",
    "version": 3
   },
   "file_extension": ".py",
   "mimetype": "text/x-python",
   "name": "python",
   "nbconvert_exporter": "python",
   "pygments_lexer": "ipython3",
   "version": "3.8.3"
  }
 },
 "nbformat": 4,
 "nbformat_minor": 4
}
