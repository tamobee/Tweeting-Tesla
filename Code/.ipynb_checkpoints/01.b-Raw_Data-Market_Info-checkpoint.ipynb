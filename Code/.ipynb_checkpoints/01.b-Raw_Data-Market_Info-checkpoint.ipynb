{
 "cells": [
  {
   "cell_type": "markdown",
   "metadata": {},
   "source": [
    "# Pulling stock data and key milestones (earnings presentations)\n",
    "# Yahoo Finance API (yahoo_fin) + Beautiful Soup"
   ]
  },
  {
   "cell_type": "code",
   "execution_count": 1,
   "metadata": {},
   "outputs": [],
   "source": [
    "# Initial imports\n",
    "import os\n",
    "import requests # not in use for pulling stock price\n",
    "import requests_html # not in use for pulling stock price\n",
    "import pandas as pd\n",
    "from pathlib import Path\n",
    "\n",
    "from dotenv import load_dotenv\n",
    "import alpaca_trade_api as tradeapi\n",
    "\n",
    "# Yahoo_fin api to pull adjusted close price\n",
    "import yahoo_fin.stock_info as si\n",
    "from datetime import date, timedelta\n",
    "import datetime\n",
    "# from yahoo_earnings_calendar import YahooEarningsCalendar\n",
    "\n",
    "# Alternative to pulling the data for earnings calls without yahoo earnings, which does not work\n",
    "import json\n",
    "from bs4 import BeautifulSoup"
   ]
  },
  {
   "cell_type": "code",
   "execution_count": 2,
   "metadata": {},
   "outputs": [],
   "source": [
    "# We use yahoo_fin API to pull adjusted closing prices. We tried Alpaca API, but priecs are not adjusted for stock splits\n",
    "# We define the tickers and other inputs for the API\n",
    "ticker_list = ['TSLA', 'QQQ']\n",
    "start_date='2010-06-29'\n",
    "end_date=date.today()#'2021-01-30'\n",
    "index_as_date=True\n",
    "interval='1d'\n",
    "\n",
    "\n",
    "# we create an empty data frame where we will store the final data\n",
    "closing_prices_df = pd.DataFrame()\n",
    "\n",
    "# Yahoo fin stores data in dictionary. We will create a for loop to pull data for all the tickers we need. We will use the same loop to create the data frame\n",
    "# We create an empty dictionary where we will store data from the API\n",
    "historical_data = {}\n",
    "\n",
    "for ticker in ticker_list:\n",
    "    historical_data[ticker] = si.get_data(ticker,start_date,end_date,index_as_date,interval)\n",
    "    closing_prices_df[ticker]=historical_data[ticker]['adjclose']\n",
    "\n",
    "# Add a title to index\n",
    "closing_prices_df.index.name = 'date'\n"
   ]
  },
  {
   "cell_type": "code",
   "execution_count": 3,
   "metadata": {},
   "outputs": [],
   "source": [
    "# date_from = datetime.datetime.strptime('Jun 29 2020  10:00AM', '%b %d %Y %I:%M%p')\n",
    "# date_to = datetime.datetime.strptime('Jan 19 2021  10:00AM', '%b %d %Y %I:%M%p')\n",
    "# type(date_from)\n",
    "# date_to"
   ]
  },
  {
   "cell_type": "code",
   "execution_count": 4,
   "metadata": {},
   "outputs": [
    {
     "data": {
      "text/html": [
       "<div>\n",
       "<style scoped>\n",
       "    .dataframe tbody tr th:only-of-type {\n",
       "        vertical-align: middle;\n",
       "    }\n",
       "\n",
       "    .dataframe tbody tr th {\n",
       "        vertical-align: top;\n",
       "    }\n",
       "\n",
       "    .dataframe thead th {\n",
       "        text-align: right;\n",
       "    }\n",
       "</style>\n",
       "<table border=\"1\" class=\"dataframe\">\n",
       "  <thead>\n",
       "    <tr style=\"text-align: right;\">\n",
       "      <th></th>\n",
       "      <th>earnings flag</th>\n",
       "    </tr>\n",
       "    <tr>\n",
       "      <th>date</th>\n",
       "      <th></th>\n",
       "    </tr>\n",
       "  </thead>\n",
       "  <tbody>\n",
       "    <tr>\n",
       "      <th>2010-11-09</th>\n",
       "      <td>1</td>\n",
       "    </tr>\n",
       "    <tr>\n",
       "      <th>2011-02-15</th>\n",
       "      <td>1</td>\n",
       "    </tr>\n",
       "    <tr>\n",
       "      <th>2011-05-04</th>\n",
       "      <td>1</td>\n",
       "    </tr>\n",
       "    <tr>\n",
       "      <th>2011-08-03</th>\n",
       "      <td>1</td>\n",
       "    </tr>\n",
       "    <tr>\n",
       "      <th>2011-11-02</th>\n",
       "      <td>1</td>\n",
       "    </tr>\n",
       "  </tbody>\n",
       "</table>\n",
       "</div>"
      ],
      "text/plain": [
       "            earnings flag\n",
       "date                     \n",
       "2010-11-09              1\n",
       "2011-02-15              1\n",
       "2011-05-04              1\n",
       "2011-08-03              1\n",
       "2011-11-02              1"
      ]
     },
     "execution_count": 4,
     "metadata": {},
     "output_type": "execute_result"
    }
   ],
   "source": [
    "# Funciton to pull earnings dates for any stock\n",
    "# uses Beautiful Soup to scrape data from yahoo finance\n",
    "\n",
    "def my_earnings_dates(symbol, start_date, end_date):\n",
    "\n",
    "    #     Define the URL\n",
    "    url = f\"https://finance.yahoo.com/calendar/earnings?from={start_date}&to={end_date}&symbol={symbol}\"\n",
    "\n",
    "    #     prepare start and end date to pass if conditions inside funciton only\n",
    "    start_date=datetime.datetime.strptime(str(start_date), '%Y-%m-%d')\n",
    "    end_date=datetime.datetime.strptime(str(end_date), '%Y-%m-%d')\n",
    "    \n",
    "    #     Get the data from the URL and use beautiful soup to parse it \n",
    "    response_data = requests.get(url)\n",
    "    soup = BeautifulSoup(response_data.text)\n",
    "    \n",
    "    #     Find all the earnings dates associated to the symbol and date\n",
    "    date_zone=soup.find_all('td',attrs={'aria-label':'Earnings Date'})\n",
    "\n",
    "    #     start populating the dates and time zones with a for loop\n",
    "    date_list=[]\n",
    "    time_zone_list=[]\n",
    "    \n",
    "    \n",
    "    for i in range(0,len(date_zone)):\n",
    "        \n",
    "        #     print(all_data[i].text)\n",
    "        #     Pull the date and time for each earnings call\n",
    "        date_time=date_zone[i].find_all('span')[0]\n",
    "        date_time=date_time.text\n",
    "        date_time=datetime.datetime.strptime(date_time, '%b %d, %Y, %I %p')\n",
    "         \n",
    "        if date_time>=start_date and date_time<=end_date:\n",
    "            #     we convert the format into a time string\n",
    "            date_time=date_time.strftime('%Y-%m-%d %I:%M%p')\n",
    "\n",
    "            #     Pull the time zone\n",
    "            time_zone=date_zone[i].find_all('span')[1]\n",
    "            time_zone=time_zone.text\n",
    "\n",
    "            #     append date_time and time_zone \n",
    "            date_list.append(date_time)\n",
    "            time_zone_list.append(time_zone)\n",
    "    \n",
    "    \n",
    "    #    Create data frame with output data\n",
    "    earnings_dates=pd.DataFrame()\n",
    "    earnings_dates['date']=date_list\n",
    "    earnings_dates['time zone']=time_zone\n",
    "    earnings_dates.sort_values(by=['date'], inplace=True)\n",
    "    \n",
    "    return earnings_dates.sort_values(by=['date'])\n",
    "\n",
    "# Pull earnings dates\n",
    "# Define ticker\n",
    "# Start and end date are defined above\n",
    "symbol= 'TSLA'\n",
    "# call funciton\n",
    "earnings_dates_df=my_earnings_dates(symbol, start_date, end_date)\n",
    "\n",
    "# Make sure to adjust data if needed - adjustment by market hour \n",
    "\n",
    "# we change the name to date column - we will drop this field later. We need a date field that shows off market hour tweets as t+1 \n",
    "earnings_dates_df.rename(columns={'date':'date original'},inplace=True)\n",
    "earnings_dates_df['date original']=pd.to_datetime(earnings_dates_df['date original'])\n",
    "\n",
    "# Make earnings calls after 4pm fall into the following day\n",
    "# Define market hour limit as everything after 16hs 00 min 00 sec\n",
    "min_hour=16\n",
    "min_minute=0\n",
    "min_second=0\n",
    "\n",
    "# we create the new field equalt to date original \n",
    "earnings_dates_df['date']=earnings_dates_df['date original'].copy()\n",
    "\n",
    "# we add 1 day to date original if the tweet occured off market hours\n",
    "earnings_dates_df.loc[(earnings_dates_df['date original'].dt.hour>=min_hour) & (earnings_dates_df['date original'].dt.minute>min_minute) & (earnings_dates_df['date original'].dt.second>min_second), 'date'] = earnings_dates_df['date original']+timedelta(days=1)\n",
    "\n",
    "\n",
    "#Create Flag 1,0 if there was an earnings call on that day\n",
    "# it will be one in this data set\n",
    "earnings_dates_df['earnings flag']=1\n",
    "# earnings_dates_df['earnings flag'].astype('int')\n",
    "\n",
    "# drop unused fields\n",
    "earnings_dates_df.drop(columns={'time zone', 'date original'}, inplace=True)\n",
    "earnings_dates_df.set_index('date', inplace=True)\n",
    "\n",
    "\n",
    "earnings_dates_df.head()"
   ]
  },
  {
   "cell_type": "code",
   "execution_count": 5,
   "metadata": {},
   "outputs": [
    {
     "data": {
      "text/html": [
       "<div>\n",
       "<style scoped>\n",
       "    .dataframe tbody tr th:only-of-type {\n",
       "        vertical-align: middle;\n",
       "    }\n",
       "\n",
       "    .dataframe tbody tr th {\n",
       "        vertical-align: top;\n",
       "    }\n",
       "\n",
       "    .dataframe thead th {\n",
       "        text-align: right;\n",
       "    }\n",
       "</style>\n",
       "<table border=\"1\" class=\"dataframe\">\n",
       "  <thead>\n",
       "    <tr style=\"text-align: right;\">\n",
       "      <th></th>\n",
       "      <th>TSLA</th>\n",
       "      <th>QQQ</th>\n",
       "      <th>earnings flag</th>\n",
       "    </tr>\n",
       "    <tr>\n",
       "      <th>date</th>\n",
       "      <th></th>\n",
       "      <th></th>\n",
       "      <th></th>\n",
       "    </tr>\n",
       "  </thead>\n",
       "  <tbody>\n",
       "    <tr>\n",
       "      <th>2010-06-29</th>\n",
       "      <td>4.778</td>\n",
       "      <td>39.031284</td>\n",
       "      <td>0</td>\n",
       "    </tr>\n",
       "    <tr>\n",
       "      <th>2010-06-30</th>\n",
       "      <td>4.766</td>\n",
       "      <td>38.437302</td>\n",
       "      <td>0</td>\n",
       "    </tr>\n",
       "    <tr>\n",
       "      <th>2010-07-01</th>\n",
       "      <td>4.392</td>\n",
       "      <td>38.329292</td>\n",
       "      <td>0</td>\n",
       "    </tr>\n",
       "    <tr>\n",
       "      <th>2010-07-02</th>\n",
       "      <td>3.840</td>\n",
       "      <td>38.221321</td>\n",
       "      <td>0</td>\n",
       "    </tr>\n",
       "    <tr>\n",
       "      <th>2010-07-06</th>\n",
       "      <td>3.222</td>\n",
       "      <td>38.338306</td>\n",
       "      <td>0</td>\n",
       "    </tr>\n",
       "  </tbody>\n",
       "</table>\n",
       "</div>"
      ],
      "text/plain": [
       "             TSLA        QQQ  earnings flag\n",
       "date                                       \n",
       "2010-06-29  4.778  39.031284              0\n",
       "2010-06-30  4.766  38.437302              0\n",
       "2010-07-01  4.392  38.329292              0\n",
       "2010-07-02  3.840  38.221321              0\n",
       "2010-07-06  3.222  38.338306              0"
      ]
     },
     "execution_count": 5,
     "metadata": {},
     "output_type": "execute_result"
    }
   ],
   "source": [
    "# Clean the format of the dates\n",
    "# closing_prices_df.index = closing_prices_df.index.date\n",
    "\n",
    "# We use earnings data to create a flag for the days with earnings calls \n",
    "closing_prices_df=closing_prices_df.join(earnings_dates_df, how='outer')\n",
    "\n",
    "# Fill in N/As with 0: we create a boolean variable\n",
    "closing_prices_df['earnings flag']=closing_prices_df['earnings flag'].fillna(0)\n",
    "\n",
    "# Change format to integer\n",
    "closing_prices_df['earnings flag']=closing_prices_df['earnings flag'].astype('int')\n",
    "\n",
    "closing_prices_df.head(5)\n",
    "\n"
   ]
  },
  {
   "cell_type": "code",
   "execution_count": 6,
   "metadata": {},
   "outputs": [],
   "source": [
    "save_csv=True\n",
    "if save_csv:\n",
    "    # Export csv files with stock prices\n",
    "    file_name=\"stock_price.csv\"\n",
    "    output_file = Path(f\"../Resources/{file_name}\")\n",
    "    closing_prices_df.to_csv(f\"{output_file}\")"
   ]
  },
  {
   "cell_type": "markdown",
   "metadata": {},
   "source": [
    "# We show the code for the Alpaca API, but we do not use it\n",
    "## Does not adjust for stock splits"
   ]
  },
  {
   "cell_type": "code",
   "execution_count": 7,
   "metadata": {},
   "outputs": [
    {
     "data": {
      "text/plain": [
       "True"
      ]
     },
     "execution_count": 7,
     "metadata": {},
     "output_type": "execute_result"
    }
   ],
   "source": [
    "# Load .env environment variables\n",
    "load_dotenv()"
   ]
  },
  {
   "cell_type": "code",
   "execution_count": 8,
   "metadata": {},
   "outputs": [],
   "source": [
    "# Set Alpaca API key and secret\n",
    "alpaca_api_key = os.getenv(\"ALPACA_API_KEY\")\n",
    "alpaca_secret_key = os.getenv(\"ALPACA_SECRET_KEY\")"
   ]
  },
  {
   "cell_type": "code",
   "execution_count": 9,
   "metadata": {},
   "outputs": [
    {
     "name": "stdout",
     "output_type": "stream",
     "text": [
      "Alpaca Key type: <class 'str'>\n",
      "Alpaca Secret Key type: <class 'str'>\n"
     ]
    }
   ],
   "source": [
    "# Verify that Alpaca key and secret were correctly loaded\n",
    "print(f\"Alpaca Key type: {type(alpaca_api_key)}\")\n",
    "print(f\"Alpaca Secret Key type: {type(alpaca_secret_key)}\")"
   ]
  },
  {
   "cell_type": "code",
   "execution_count": 10,
   "metadata": {},
   "outputs": [],
   "source": [
    "# Create the Alpaca API object\n",
    "alpaca = tradeapi.REST(\n",
    "    alpaca_api_key,\n",
    "    alpaca_secret_key,\n",
    "    api_version=\"v2\")"
   ]
  },
  {
   "cell_type": "code",
   "execution_count": null,
   "metadata": {},
   "outputs": [],
   "source": []
  },
  {
   "cell_type": "code",
   "execution_count": null,
   "metadata": {},
   "outputs": [],
   "source": []
  },
  {
   "cell_type": "code",
   "execution_count": null,
   "metadata": {},
   "outputs": [],
   "source": []
  }
 ],
 "metadata": {
  "kernelspec": {
   "display_name": "Python 3",
   "language": "python",
   "name": "python3"
  },
  "language_info": {
   "codemirror_mode": {
    "name": "ipython",
    "version": 3
   },
   "file_extension": ".py",
   "mimetype": "text/x-python",
   "name": "python",
   "nbconvert_exporter": "python",
   "pygments_lexer": "ipython3",
   "version": "3.8.3"
  }
 },
 "nbformat": 4,
 "nbformat_minor": 4
}
