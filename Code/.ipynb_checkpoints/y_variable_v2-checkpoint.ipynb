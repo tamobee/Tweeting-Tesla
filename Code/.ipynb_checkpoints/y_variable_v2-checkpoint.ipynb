{
 "cells": [
  {
   "cell_type": "markdown",
   "metadata": {},
   "source": [
    "# Generating Inputs of Y Variable\n",
    "# Yah0o Finance API (yahoo_fin)"
   ]
  },
  {
   "cell_type": "code",
   "execution_count": 1,
   "metadata": {},
   "outputs": [],
   "source": [
    "# Initial imports\n",
    "import requests # not in use for pulling stock price\n",
    "import requests_html # not in use for pulling stock price\n",
    "import pandas as pd\n",
    "from pathlib import Path\n",
    "import yahoo_fin.stock_info as si\n",
    "from datetime import date\n",
    "\n"
   ]
  },
  {
   "cell_type": "code",
   "execution_count": 2,
   "metadata": {},
   "outputs": [],
   "source": [
    "# We use yahoo_fin API to pull adjusted closing prices. We tried Alpaca API, but priecs are not adjusted for stock splits\n",
    "# We define the tickers and other inputs for the API\n",
    "ticker_list = ['TSLA', 'QQQ']\n",
    "start_date='2010-06-29'\n",
    "end_date=date.today()#'2021-01-30'\n",
    "index_as_date=True\n",
    "interval='1d'\n",
    "\n",
    "\n",
    "# we create an empty data frame where we will store the final data\n",
    "df_closing_prices = pd.DataFrame()\n",
    "\n",
    "# Yahoo fin stores data in dictionary. We will create a for loop to pull data for all the tickers we need. We will use the same loop to create the data frame\n",
    "# We create an empty dictionary where we will store data from the API\n",
    "historical_data = {}\n",
    "\n",
    "for ticker in ticker_list:\n",
    "    historical_data[ticker] = si.get_data(ticker,start_date,end_date,index_as_date,interval)\n",
    "    df_closing_prices[ticker]=historical_data[ticker]['adjclose']\n",
    "\n",
    "# Add a title to index\n",
    "df_closing_prices.index.name = 'date'\n"
   ]
  },
  {
   "cell_type": "code",
   "execution_count": 3,
   "metadata": {},
   "outputs": [
    {
     "data": {
      "text/html": [
       "<div>\n",
       "<style scoped>\n",
       "    .dataframe tbody tr th:only-of-type {\n",
       "        vertical-align: middle;\n",
       "    }\n",
       "\n",
       "    .dataframe tbody tr th {\n",
       "        vertical-align: top;\n",
       "    }\n",
       "\n",
       "    .dataframe thead th {\n",
       "        text-align: right;\n",
       "    }\n",
       "</style>\n",
       "<table border=\"1\" class=\"dataframe\">\n",
       "  <thead>\n",
       "    <tr style=\"text-align: right;\">\n",
       "      <th></th>\n",
       "      <th>TSLA</th>\n",
       "      <th>QQQ</th>\n",
       "    </tr>\n",
       "    <tr>\n",
       "      <th>date</th>\n",
       "      <th></th>\n",
       "      <th></th>\n",
       "    </tr>\n",
       "  </thead>\n",
       "  <tbody>\n",
       "    <tr>\n",
       "      <th>2010-06-29</th>\n",
       "      <td>4.778</td>\n",
       "      <td>39.031284</td>\n",
       "    </tr>\n",
       "    <tr>\n",
       "      <th>2010-06-30</th>\n",
       "      <td>4.766</td>\n",
       "      <td>38.437302</td>\n",
       "    </tr>\n",
       "    <tr>\n",
       "      <th>2010-07-01</th>\n",
       "      <td>4.392</td>\n",
       "      <td>38.329292</td>\n",
       "    </tr>\n",
       "    <tr>\n",
       "      <th>2010-07-02</th>\n",
       "      <td>3.840</td>\n",
       "      <td>38.221321</td>\n",
       "    </tr>\n",
       "    <tr>\n",
       "      <th>2010-07-06</th>\n",
       "      <td>3.222</td>\n",
       "      <td>38.338306</td>\n",
       "    </tr>\n",
       "  </tbody>\n",
       "</table>\n",
       "</div>"
      ],
      "text/plain": [
       "             TSLA        QQQ\n",
       "date                        \n",
       "2010-06-29  4.778  39.031284\n",
       "2010-06-30  4.766  38.437302\n",
       "2010-07-01  4.392  38.329292\n",
       "2010-07-02  3.840  38.221321\n",
       "2010-07-06  3.222  38.338306"
      ]
     },
     "execution_count": 3,
     "metadata": {},
     "output_type": "execute_result"
    }
   ],
   "source": [
    "df_closing_prices.head()"
   ]
  },
  {
   "cell_type": "code",
   "execution_count": 4,
   "metadata": {},
   "outputs": [],
   "source": [
    "# Export csv files with stock prices\n",
    "file_name=\"stock_price.csv\"\n",
    "output_file = Path(f\"../Resources/{file_name}\")\n",
    "df_closing_prices.to_csv(f\"{output_file}\")"
   ]
  }
 ],
 "metadata": {
  "kernelspec": {
   "display_name": "Python 3",
   "language": "python",
   "name": "python3"
  },
  "language_info": {
   "codemirror_mode": {
    "name": "ipython",
    "version": 3
   },
   "file_extension": ".py",
   "mimetype": "text/x-python",
   "name": "python",
   "nbconvert_exporter": "python",
   "pygments_lexer": "ipython3",
   "version": "3.8.3"
  }
 },
 "nbformat": 4,
 "nbformat_minor": 4
}
