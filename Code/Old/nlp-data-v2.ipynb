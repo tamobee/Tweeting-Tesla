{
 "cells": [
  {
   "cell_type": "markdown",
   "metadata": {},
   "source": [
    "# NLP"
   ]
  },
  {
   "cell_type": "code",
   "execution_count": 1,
   "metadata": {},
   "outputs": [
    {
     "name": "stderr",
     "output_type": "stream",
     "text": [
      "[nltk_data] Downloading package vader_lexicon to\n",
      "[nltk_data]     C:\\Users\\carli\\AppData\\Roaming\\nltk_data...\n",
      "[nltk_data]   Package vader_lexicon is already up-to-date!\n",
      "[nltk_data] Downloading package stopwords to\n",
      "[nltk_data]     C:\\Users\\carli\\AppData\\Roaming\\nltk_data...\n",
      "[nltk_data]   Package stopwords is already up-to-date!\n"
     ]
    }
   ],
   "source": [
    "# Initial imports\n",
    "import os\n",
    "import pandas as pd\n",
    "import numpy as np\n",
    "from dotenv import load_dotenv\n",
    "from nltk.sentiment.vader import SentimentIntensityAnalyzer\n",
    "import nltk\n",
    "from pathlib import Path\n",
    "import re\n",
    "nltk.download('vader_lexicon')\n",
    "nltk.download('stopwords')\n",
    "analyzer = SentimentIntensityAnalyzer()\n",
    "%matplotlib inline\n",
    "\n",
    "# Display all the text in columns\n",
    "pd.set_option('display.max_colwidth', None)"
   ]
  },
  {
   "cell_type": "code",
   "execution_count": 2,
   "metadata": {},
   "outputs": [],
   "source": [
    "# Read in the tweets csv as a pandas DataFrame\n",
    "# Convert NaNs into blanks \n",
    "file_name = 'clean_elon_tweets_vF.csv'\n",
    "file_path = Path(f\"../Resources/{file_name}\")\n",
    "tweets_data = pd.read_csv(file_path, \n",
    "                          parse_dates=True, \n",
    "                          infer_datetime_format=True).replace(np.nan, '', regex=True)\n"
   ]
  },
  {
   "cell_type": "code",
   "execution_count": 3,
   "metadata": {},
   "outputs": [],
   "source": [
    "# Functions for cleaning the raw tweet data\n",
    "def remove_pattern(input_txt, pattern):\n",
    "    r = re.findall(pattern, input_txt)\n",
    "    for i in r:\n",
    "        input_txt = re.sub(i, '', input_txt)        \n",
    "    return input_txt\n",
    "\n",
    "def clean_tweets(tweets):\n",
    "    # remove twitter Return handles (RT @xxx:)\n",
    "    tweets = np.vectorize(remove_pattern)(tweets, \"RT @[\\w]*:\")\n",
    "    # remove twitter handles (@xxx)\n",
    "    tweets = np.vectorize(remove_pattern)(tweets, \"@[\\w]*\")\n",
    "    # remove URL links (httpxxx)\n",
    "    tweets = np.vectorize(remove_pattern)(tweets, \"https?://[A-Za-z0-9./]*\")\n",
    "    # remove special characters, numbers, punctuations (except for #)\n",
    "    tweets = np.core.defchararray.replace(tweets, \"[^a-zA-Z]\", \" \")\n",
    "    return tweets\n"
   ]
  },
  {
   "cell_type": "code",
   "execution_count": 4,
   "metadata": {},
   "outputs": [],
   "source": [
    "# Add a column for cleaned tweets in original DataFrame\n",
    "tweets_data['cleaned_tweet'] = clean_tweets(tweets_data['tweet'])\n",
    "\n",
    "# Create a list of scores\n",
    "scores = []\n",
    "\n",
    "for i in range(tweets_data['cleaned_tweet'].shape[0]):\n",
    "    try:\n",
    "        compound = analyzer.polarity_scores(tweets_data['cleaned_tweet'][i])[\"compound\"]\n",
    "        pos = analyzer.polarity_scores(tweets_data['cleaned_tweet'][i])[\"pos\"]\n",
    "        neu = analyzer.polarity_scores(tweets_data['cleaned_tweet'][i])[\"neu\"]\n",
    "        neg = analyzer.polarity_scores(tweets_data['cleaned_tweet'][i])[\"neg\"]\n",
    "    \n",
    "        scores.append({\n",
    "            \"Compound\": compound, \n",
    "            \"Positive\": pos, \n",
    "            \"Negative\": neg, \n",
    "            \"Neutral\": neu\n",
    "        })\n",
    "    except AttributeError:\n",
    "        pass\n",
    "    "
   ]
  },
  {
   "cell_type": "code",
   "execution_count": 5,
   "metadata": {},
   "outputs": [
    {
     "name": "stdout",
     "output_type": "stream",
     "text": [
      "Sentiment Scores\n",
      "      Compound  Positive  Negative  Neutral\n",
      "2654    0.5226     0.141     0.090    0.769\n",
      "2655    0.9357     0.336     0.120    0.545\n",
      "2656    0.9429     0.182     0.000    0.818\n",
      "2657    0.9980     0.316     0.031    0.653\n",
      "2658    0.0000     0.000     0.000    0.000\n",
      "\n",
      "Describe Sentiment\n",
      "          Compound     Positive     Negative      Neutral\n",
      "count  2659.000000  2659.000000  2659.000000  2659.000000\n",
      "mean      0.298149     0.105044     0.029572     0.431761\n",
      "std       0.448107     0.148586     0.056029     0.395964\n",
      "min      -0.959400     0.000000     0.000000     0.000000\n",
      "25%       0.000000     0.000000     0.000000     0.000000\n",
      "50%       0.000000     0.000000     0.000000     0.617000\n",
      "75%       0.784500     0.182000     0.046500     0.789000\n",
      "max       0.999700     1.000000     0.756000     1.000000\n"
     ]
    }
   ],
   "source": [
    "# Create the sentiment scores DataFrame\n",
    "print(\"Sentiment Scores\")\n",
    "sentiment_scores = pd.DataFrame(scores)\n",
    "print(sentiment_scores.tail())\n",
    "\n",
    "print(\"\")\n",
    "\n",
    "# Describe the Tweet sentiment\n",
    "print(\"Describe Sentiment\")\n",
    "print(sentiment_scores.describe())"
   ]
  },
  {
   "cell_type": "code",
   "execution_count": 6,
   "metadata": {},
   "outputs": [],
   "source": [
    "# Join Tweets DataFrame and sentiment scores DataFrame\n",
    "def join_dataframes(df, df1):\n",
    "    \"\"\"Join Tweets DataFrame and sentiment scores DataFrame\"\"\"\n",
    "    \n",
    "    df = df.join(df1)\n",
    "    return df\n"
   ]
  },
  {
   "cell_type": "code",
   "execution_count": 7,
   "metadata": {},
   "outputs": [
    {
     "data": {
      "text/html": [
       "<div>\n",
       "<style scoped>\n",
       "    .dataframe tbody tr th:only-of-type {\n",
       "        vertical-align: middle;\n",
       "    }\n",
       "\n",
       "    .dataframe tbody tr th {\n",
       "        vertical-align: top;\n",
       "    }\n",
       "\n",
       "    .dataframe thead th {\n",
       "        text-align: right;\n",
       "    }\n",
       "</style>\n",
       "<table border=\"1\" class=\"dataframe\">\n",
       "  <thead>\n",
       "    <tr style=\"text-align: right;\">\n",
       "      <th></th>\n",
       "      <th>date</th>\n",
       "      <th>tweet</th>\n",
       "      <th>cleaned_tweet</th>\n",
       "      <th>Compound</th>\n",
       "      <th>Positive</th>\n",
       "      <th>Negative</th>\n",
       "      <th>Neutral</th>\n",
       "    </tr>\n",
       "  </thead>\n",
       "  <tbody>\n",
       "    <tr>\n",
       "      <th>2657</th>\n",
       "      <td>2021-01-19</td>\n",
       "      <td>@kellyreid The rate-limiting part or process in cell production is constantly changing @FrancisSuarez @CityofMiami Cars &amp;amp; trucks stuck in traffic generate megatons of toxic gases &amp;amp; particulate, but @boringcompany road tunnels under Miami would solve traffic &amp;amp; be an example to the world.   Spoke with @RonDeSantisFL about tunnels last week. If Governor &amp;amp; Mayor want this done, we will do it. @RationalEtienne @OwenSparks_ @Tesla With our giant casting machines, we are literally trying to make full-size cars in the same way that toy cars are made @lexfridman @tegmark Tegmark is an exceptionally smart &amp;amp; good human @OwenSparks_ The best manufacturing technology is in ultra high volume industries, like food &amp;amp; beverage, some medical (eg syringes) &amp;amp; toys Battery cell production is the fundamental rate-limiter slowing down a sustainable energy future. Very important problem. @p_ferragu Looking into this. No question that FSD should be viewed as reasonably valuable when doing a trade-in. @tobyliiiiiiiiii @Erdayastronaut For sure @Erdayastronaut Glad you’re ok @Virgin_Orbit Congratulations! @teslaownersSV This is a good one @MrBeastYT I whistle @DMC_Ryan @C_R_H_M @Tesla Cybertruck doesn’t need a garage @DMC_Ryan @Tesla It will be awesome @owenshift Good point @signalapp Your server-side code is doing too much @Wikipedia Happy birthday Wikipedia! So glad you exist. @TheOnion Guess you been watching Cobra Kai @DMC_Ryan @C_R_H_M @Tesla Cybertruck doesn’t need a garage @DMC_Ryan @Tesla It will be awesome @owenshift Good point @signalapp Your server-side code is doing too much @Wikipedia Happy birthday Wikipedia! So glad you exist. @TheOnion Guess you been watching Cobra Kai</td>\n",
       "      <td>The rate-limiting part or process in cell production is constantly changing   Cars &amp;amp; trucks stuck in traffic generate megatons of toxic gases &amp;amp; particulate, but  road tunnels under Miami would solve traffic &amp;amp; be an example to the world.   Spoke with  about tunnels last week. If Governor &amp;amp; Mayor want this done, we will do it.    With our giant casting machines, we are literally trying to make full-size cars in the same way that toy cars are made   Tegmark is an exceptionally smart &amp;amp; good human  The best manufacturing technology is in ultra high volume industries, like food &amp;amp; beverage, some medical (eg syringes) &amp;amp; toys Battery cell production is the fundamental rate-limiter slowing down a sustainable energy future. Very important problem.  Looking into this. No question that FSD should be viewed as reasonably valuable when doing a trade-in.   For sure  Glad you’re ok  Congratulations!  This is a good one  I whistle    Cybertruck doesn’t need a garage   It will be awesome  Good point  Your server-side code is doing too much  Happy birthday Wikipedia! So glad you exist.  Guess you been watching Cobra Kai    Cybertruck doesn’t need a garage   It will be awesome  Good point  Your server-side code is doing too much  Happy birthday Wikipedia! So glad you exist.  Guess you been watching Cobra Kai</td>\n",
       "      <td>0.998</td>\n",
       "      <td>0.316</td>\n",
       "      <td>0.031</td>\n",
       "      <td>0.653</td>\n",
       "    </tr>\n",
       "    <tr>\n",
       "      <th>2658</th>\n",
       "      <td>2021-01-20</td>\n",
       "      <td></td>\n",
       "      <td></td>\n",
       "      <td>0.000</td>\n",
       "      <td>0.000</td>\n",
       "      <td>0.000</td>\n",
       "      <td>0.000</td>\n",
       "    </tr>\n",
       "  </tbody>\n",
       "</table>\n",
       "</div>"
      ],
      "text/plain": [
       "            date  \\\n",
       "2657  2021-01-19   \n",
       "2658  2021-01-20   \n",
       "\n",
       "                                                                                                                                                                                                                                                                                                                                                                                                                                                                                                                                                                                                                                                                                                                                                                                                                                                                                                                                                                                                                                                                                                                                                                                                                                                                                                                                                                                                                                                                                                                                                                                                                                                                                                                                                                                   tweet  \\\n",
       "2657   @kellyreid The rate-limiting part or process in cell production is constantly changing @FrancisSuarez @CityofMiami Cars &amp; trucks stuck in traffic generate megatons of toxic gases &amp; particulate, but @boringcompany road tunnels under Miami would solve traffic &amp; be an example to the world.   Spoke with @RonDeSantisFL about tunnels last week. If Governor &amp; Mayor want this done, we will do it. @RationalEtienne @OwenSparks_ @Tesla With our giant casting machines, we are literally trying to make full-size cars in the same way that toy cars are made @lexfridman @tegmark Tegmark is an exceptionally smart &amp; good human @OwenSparks_ The best manufacturing technology is in ultra high volume industries, like food &amp; beverage, some medical (eg syringes) &amp; toys Battery cell production is the fundamental rate-limiter slowing down a sustainable energy future. Very important problem. @p_ferragu Looking into this. No question that FSD should be viewed as reasonably valuable when doing a trade-in. @tobyliiiiiiiiii @Erdayastronaut For sure @Erdayastronaut Glad you’re ok @Virgin_Orbit Congratulations! @teslaownersSV This is a good one @MrBeastYT I whistle @DMC_Ryan @C_R_H_M @Tesla Cybertruck doesn’t need a garage @DMC_Ryan @Tesla It will be awesome @owenshift Good point @signalapp Your server-side code is doing too much @Wikipedia Happy birthday Wikipedia! So glad you exist. @TheOnion Guess you been watching Cobra Kai @DMC_Ryan @C_R_H_M @Tesla Cybertruck doesn’t need a garage @DMC_Ryan @Tesla It will be awesome @owenshift Good point @signalapp Your server-side code is doing too much @Wikipedia Happy birthday Wikipedia! So glad you exist. @TheOnion Guess you been watching Cobra Kai   \n",
       "2658                                                                                                                                                                                                                                                                                                                                                                                                                                                                                                                                                                                                                                                                                                                                                                                                                                                                                                                                                                                                                                                                                                                                                                                                                                                                                                                                                                                                                                                                                                                                                                                                                                                                                                                                                                                       \n",
       "\n",
       "                                                                                                                                                                                                                                                                                                                                                                                                                                                                                                                                                                                                                                                                                                                                                                                                                                                                                                                                                                                                                                                                                                                                                                                                                                                                                                                                                                                   cleaned_tweet  \\\n",
       "2657    The rate-limiting part or process in cell production is constantly changing   Cars &amp; trucks stuck in traffic generate megatons of toxic gases &amp; particulate, but  road tunnels under Miami would solve traffic &amp; be an example to the world.   Spoke with  about tunnels last week. If Governor &amp; Mayor want this done, we will do it.    With our giant casting machines, we are literally trying to make full-size cars in the same way that toy cars are made   Tegmark is an exceptionally smart &amp; good human  The best manufacturing technology is in ultra high volume industries, like food &amp; beverage, some medical (eg syringes) &amp; toys Battery cell production is the fundamental rate-limiter slowing down a sustainable energy future. Very important problem.  Looking into this. No question that FSD should be viewed as reasonably valuable when doing a trade-in.   For sure  Glad you’re ok  Congratulations!  This is a good one  I whistle    Cybertruck doesn’t need a garage   It will be awesome  Good point  Your server-side code is doing too much  Happy birthday Wikipedia! So glad you exist.  Guess you been watching Cobra Kai    Cybertruck doesn’t need a garage   It will be awesome  Good point  Your server-side code is doing too much  Happy birthday Wikipedia! So glad you exist.  Guess you been watching Cobra Kai   \n",
       "2658                                                                                                                                                                                                                                                                                                                                                                                                                                                                                                                                                                                                                                                                                                                                                                                                                                                                                                                                                                                                                                                                                                                                                                                                                                                                                                                                                                                               \n",
       "\n",
       "      Compound  Positive  Negative  Neutral  \n",
       "2657     0.998     0.316     0.031    0.653  \n",
       "2658     0.000     0.000     0.000    0.000  "
      ]
     },
     "execution_count": 7,
     "metadata": {},
     "output_type": "execute_result"
    }
   ],
   "source": [
    "tweets_data = join_dataframes(tweets_data, sentiment_scores)\n",
    "tweets_data.tail(2)"
   ]
  },
  {
   "cell_type": "code",
   "execution_count": 8,
   "metadata": {},
   "outputs": [
    {
     "data": {
      "text/html": [
       "<div>\n",
       "<style scoped>\n",
       "    .dataframe tbody tr th:only-of-type {\n",
       "        vertical-align: middle;\n",
       "    }\n",
       "\n",
       "    .dataframe tbody tr th {\n",
       "        vertical-align: top;\n",
       "    }\n",
       "\n",
       "    .dataframe thead th {\n",
       "        text-align: right;\n",
       "    }\n",
       "</style>\n",
       "<table border=\"1\" class=\"dataframe\">\n",
       "  <thead>\n",
       "    <tr style=\"text-align: right;\">\n",
       "      <th></th>\n",
       "      <th>date</th>\n",
       "      <th>tweet</th>\n",
       "      <th>cleaned_tweet</th>\n",
       "      <th>Compound</th>\n",
       "      <th>Positive</th>\n",
       "      <th>Negative</th>\n",
       "      <th>Neutral</th>\n",
       "      <th>Sentiment</th>\n",
       "    </tr>\n",
       "  </thead>\n",
       "  <tbody>\n",
       "    <tr>\n",
       "      <th>2657</th>\n",
       "      <td>2021-01-19</td>\n",
       "      <td>@kellyreid The rate-limiting part or process in cell production is constantly changing @FrancisSuarez @CityofMiami Cars &amp;amp; trucks stuck in traffic generate megatons of toxic gases &amp;amp; particulate, but @boringcompany road tunnels under Miami would solve traffic &amp;amp; be an example to the world.   Spoke with @RonDeSantisFL about tunnels last week. If Governor &amp;amp; Mayor want this done, we will do it. @RationalEtienne @OwenSparks_ @Tesla With our giant casting machines, we are literally trying to make full-size cars in the same way that toy cars are made @lexfridman @tegmark Tegmark is an exceptionally smart &amp;amp; good human @OwenSparks_ The best manufacturing technology is in ultra high volume industries, like food &amp;amp; beverage, some medical (eg syringes) &amp;amp; toys Battery cell production is the fundamental rate-limiter slowing down a sustainable energy future. Very important problem. @p_ferragu Looking into this. No question that FSD should be viewed as reasonably valuable when doing a trade-in. @tobyliiiiiiiiii @Erdayastronaut For sure @Erdayastronaut Glad you’re ok @Virgin_Orbit Congratulations! @teslaownersSV This is a good one @MrBeastYT I whistle @DMC_Ryan @C_R_H_M @Tesla Cybertruck doesn’t need a garage @DMC_Ryan @Tesla It will be awesome @owenshift Good point @signalapp Your server-side code is doing too much @Wikipedia Happy birthday Wikipedia! So glad you exist. @TheOnion Guess you been watching Cobra Kai @DMC_Ryan @C_R_H_M @Tesla Cybertruck doesn’t need a garage @DMC_Ryan @Tesla It will be awesome @owenshift Good point @signalapp Your server-side code is doing too much @Wikipedia Happy birthday Wikipedia! So glad you exist. @TheOnion Guess you been watching Cobra Kai</td>\n",
       "      <td>The rate-limiting part or process in cell production is constantly changing   Cars &amp;amp; trucks stuck in traffic generate megatons of toxic gases &amp;amp; particulate, but  road tunnels under Miami would solve traffic &amp;amp; be an example to the world.   Spoke with  about tunnels last week. If Governor &amp;amp; Mayor want this done, we will do it.    With our giant casting machines, we are literally trying to make full-size cars in the same way that toy cars are made   Tegmark is an exceptionally smart &amp;amp; good human  The best manufacturing technology is in ultra high volume industries, like food &amp;amp; beverage, some medical (eg syringes) &amp;amp; toys Battery cell production is the fundamental rate-limiter slowing down a sustainable energy future. Very important problem.  Looking into this. No question that FSD should be viewed as reasonably valuable when doing a trade-in.   For sure  Glad you’re ok  Congratulations!  This is a good one  I whistle    Cybertruck doesn’t need a garage   It will be awesome  Good point  Your server-side code is doing too much  Happy birthday Wikipedia! So glad you exist.  Guess you been watching Cobra Kai    Cybertruck doesn’t need a garage   It will be awesome  Good point  Your server-side code is doing too much  Happy birthday Wikipedia! So glad you exist.  Guess you been watching Cobra Kai</td>\n",
       "      <td>0.998</td>\n",
       "      <td>0.316</td>\n",
       "      <td>0.031</td>\n",
       "      <td>0.653</td>\n",
       "      <td>positive</td>\n",
       "    </tr>\n",
       "    <tr>\n",
       "      <th>2658</th>\n",
       "      <td>2021-01-20</td>\n",
       "      <td></td>\n",
       "      <td></td>\n",
       "      <td>0.000</td>\n",
       "      <td>0.000</td>\n",
       "      <td>0.000</td>\n",
       "      <td>0.000</td>\n",
       "      <td>neutral</td>\n",
       "    </tr>\n",
       "  </tbody>\n",
       "</table>\n",
       "</div>"
      ],
      "text/plain": [
       "            date  \\\n",
       "2657  2021-01-19   \n",
       "2658  2021-01-20   \n",
       "\n",
       "                                                                                                                                                                                                                                                                                                                                                                                                                                                                                                                                                                                                                                                                                                                                                                                                                                                                                                                                                                                                                                                                                                                                                                                                                                                                                                                                                                                                                                                                                                                                                                                                                                                                                                                                                                                   tweet  \\\n",
       "2657   @kellyreid The rate-limiting part or process in cell production is constantly changing @FrancisSuarez @CityofMiami Cars &amp; trucks stuck in traffic generate megatons of toxic gases &amp; particulate, but @boringcompany road tunnels under Miami would solve traffic &amp; be an example to the world.   Spoke with @RonDeSantisFL about tunnels last week. If Governor &amp; Mayor want this done, we will do it. @RationalEtienne @OwenSparks_ @Tesla With our giant casting machines, we are literally trying to make full-size cars in the same way that toy cars are made @lexfridman @tegmark Tegmark is an exceptionally smart &amp; good human @OwenSparks_ The best manufacturing technology is in ultra high volume industries, like food &amp; beverage, some medical (eg syringes) &amp; toys Battery cell production is the fundamental rate-limiter slowing down a sustainable energy future. Very important problem. @p_ferragu Looking into this. No question that FSD should be viewed as reasonably valuable when doing a trade-in. @tobyliiiiiiiiii @Erdayastronaut For sure @Erdayastronaut Glad you’re ok @Virgin_Orbit Congratulations! @teslaownersSV This is a good one @MrBeastYT I whistle @DMC_Ryan @C_R_H_M @Tesla Cybertruck doesn’t need a garage @DMC_Ryan @Tesla It will be awesome @owenshift Good point @signalapp Your server-side code is doing too much @Wikipedia Happy birthday Wikipedia! So glad you exist. @TheOnion Guess you been watching Cobra Kai @DMC_Ryan @C_R_H_M @Tesla Cybertruck doesn’t need a garage @DMC_Ryan @Tesla It will be awesome @owenshift Good point @signalapp Your server-side code is doing too much @Wikipedia Happy birthday Wikipedia! So glad you exist. @TheOnion Guess you been watching Cobra Kai   \n",
       "2658                                                                                                                                                                                                                                                                                                                                                                                                                                                                                                                                                                                                                                                                                                                                                                                                                                                                                                                                                                                                                                                                                                                                                                                                                                                                                                                                                                                                                                                                                                                                                                                                                                                                                                                                                                                       \n",
       "\n",
       "                                                                                                                                                                                                                                                                                                                                                                                                                                                                                                                                                                                                                                                                                                                                                                                                                                                                                                                                                                                                                                                                                                                                                                                                                                                                                                                                                                                   cleaned_tweet  \\\n",
       "2657    The rate-limiting part or process in cell production is constantly changing   Cars &amp; trucks stuck in traffic generate megatons of toxic gases &amp; particulate, but  road tunnels under Miami would solve traffic &amp; be an example to the world.   Spoke with  about tunnels last week. If Governor &amp; Mayor want this done, we will do it.    With our giant casting machines, we are literally trying to make full-size cars in the same way that toy cars are made   Tegmark is an exceptionally smart &amp; good human  The best manufacturing technology is in ultra high volume industries, like food &amp; beverage, some medical (eg syringes) &amp; toys Battery cell production is the fundamental rate-limiter slowing down a sustainable energy future. Very important problem.  Looking into this. No question that FSD should be viewed as reasonably valuable when doing a trade-in.   For sure  Glad you’re ok  Congratulations!  This is a good one  I whistle    Cybertruck doesn’t need a garage   It will be awesome  Good point  Your server-side code is doing too much  Happy birthday Wikipedia! So glad you exist.  Guess you been watching Cobra Kai    Cybertruck doesn’t need a garage   It will be awesome  Good point  Your server-side code is doing too much  Happy birthday Wikipedia! So glad you exist.  Guess you been watching Cobra Kai   \n",
       "2658                                                                                                                                                                                                                                                                                                                                                                                                                                                                                                                                                                                                                                                                                                                                                                                                                                                                                                                                                                                                                                                                                                                                                                                                                                                                                                                                                                                               \n",
       "\n",
       "      Compound  Positive  Negative  Neutral Sentiment  \n",
       "2657     0.998     0.316     0.031    0.653  positive  \n",
       "2658     0.000     0.000     0.000    0.000   neutral  "
      ]
     },
     "execution_count": 8,
     "metadata": {},
     "output_type": "execute_result"
    }
   ],
   "source": [
    "# Create a list of sentiment\n",
    "i = 0\n",
    "Sentiment = []\n",
    "\n",
    "while(i < len(tweets_data)):\n",
    "    if ((tweets_data.iloc[i]['Compound'] > 0.5)):\n",
    "        Sentiment.append('positive')\n",
    "        i = i+1\n",
    "    elif ((tweets_data.iloc[i]['Compound'] > -0.5) & (tweets_data.iloc[i]['Compound'] <= 0.5)):\n",
    "        Sentiment.append('neutral')\n",
    "        i = i+1\n",
    "    elif ((tweets_data.iloc[i]['Compound'] <= -0.5)):\n",
    "        Sentiment.append('negative')\n",
    "        i = i+1\n",
    "\n",
    "# Add the Sentiment column to the Tweets DataFrame\n",
    "tweets_data['Sentiment'] = Sentiment\n",
    "tweets_data.tail(2)\n"
   ]
  },
  {
   "cell_type": "markdown",
   "metadata": {},
   "source": [
    "# We can \"uncomment\" this cell once we delete the One Hot Encoder section"
   ]
  },
  {
   "cell_type": "code",
   "execution_count": 9,
   "metadata": {},
   "outputs": [],
   "source": [
    "# # Get dummy variables for Sentiment column\n",
    "# tweets_data['Sentiment'] = pd.get_dummies(tweets_data.Sentiment)\n",
    "# tweets_data.dtypes"
   ]
  },
  {
   "cell_type": "markdown",
   "metadata": {},
   "source": [
    "# Tokenizer"
   ]
  },
  {
   "cell_type": "code",
   "execution_count": 10,
   "metadata": {},
   "outputs": [],
   "source": [
    "# Imports\n",
    "from nltk.tokenize import word_tokenize, sent_tokenize\n",
    "from nltk.corpus import stopwords\n",
    "from nltk.stem import WordNetLemmatizer, PorterStemmer\n",
    "from string import punctuation\n",
    "import string\n",
    "import re\n",
    "\n",
    "lemmatizer = WordNetLemmatizer()\n",
    "sw_addon = stopwords.words('english')\n",
    "sw_addon.append(\"u\")\n",
    "sw_addon.append(\"it'\")\n",
    "sw_addon.append(\"char\")\n",
    "sw_addon.append(\"’\")\n",
    "sw_addon.append(\"…\")\n",
    "sw_addon.append(\"”\")\n",
    "sw_addon.append('“')\n",
    "sw_addon.append('”')\n",
    "sw_addon.append('amp')\n",
    "sw_addon.append('would')\n",
    "sw_addon.append(\"n't\")\n",
    "sw_addon.append('wo')\n",
    "sw_addon = set(sw_addon)\n"
   ]
  },
  {
   "cell_type": "code",
   "execution_count": 11,
   "metadata": {},
   "outputs": [],
   "source": [
    "# Tokenize tweets\n",
    "def tokenizer(text):\n",
    "    \"\"\"Tokenizes text.\"\"\"   \n",
    "    # Create a list of the words\n",
    "    words = word_tokenize(text)\n",
    "    # Convert the words to lowercase\n",
    "    words = list(filter(lambda w: w.lower(), words))   \n",
    "    # Remove the punctuation\n",
    "    words = list(filter(lambda t: t not in punctuation, words))   \n",
    "    # Remove the stopwords\n",
    "    words = list(filter(lambda t: t.lower() not in sw_addon, words))   \n",
    "    # Lemmatize Words into root words\n",
    "    tokens = [lemmatizer.lemmatize(word) for word in words]  \n",
    "    return tokens\n"
   ]
  },
  {
   "cell_type": "code",
   "execution_count": 12,
   "metadata": {},
   "outputs": [
    {
     "data": {
      "text/html": [
       "<div>\n",
       "<style scoped>\n",
       "    .dataframe tbody tr th:only-of-type {\n",
       "        vertical-align: middle;\n",
       "    }\n",
       "\n",
       "    .dataframe tbody tr th {\n",
       "        vertical-align: top;\n",
       "    }\n",
       "\n",
       "    .dataframe thead th {\n",
       "        text-align: right;\n",
       "    }\n",
       "</style>\n",
       "<table border=\"1\" class=\"dataframe\">\n",
       "  <thead>\n",
       "    <tr style=\"text-align: right;\">\n",
       "      <th></th>\n",
       "      <th>date</th>\n",
       "      <th>tweet</th>\n",
       "      <th>cleaned_tweet</th>\n",
       "      <th>Compound</th>\n",
       "      <th>Positive</th>\n",
       "      <th>Negative</th>\n",
       "      <th>Neutral</th>\n",
       "      <th>Sentiment</th>\n",
       "      <th>tokens</th>\n",
       "    </tr>\n",
       "  </thead>\n",
       "  <tbody>\n",
       "    <tr>\n",
       "      <th>2657</th>\n",
       "      <td>2021-01-19</td>\n",
       "      <td>@kellyreid The rate-limiting part or process in cell production is constantly changing @FrancisSuarez @CityofMiami Cars &amp;amp; trucks stuck in traffic generate megatons of toxic gases &amp;amp; particulate, but @boringcompany road tunnels under Miami would solve traffic &amp;amp; be an example to the world.   Spoke with @RonDeSantisFL about tunnels last week. If Governor &amp;amp; Mayor want this done, we will do it. @RationalEtienne @OwenSparks_ @Tesla With our giant casting machines, we are literally trying to make full-size cars in the same way that toy cars are made @lexfridman @tegmark Tegmark is an exceptionally smart &amp;amp; good human @OwenSparks_ The best manufacturing technology is in ultra high volume industries, like food &amp;amp; beverage, some medical (eg syringes) &amp;amp; toys Battery cell production is the fundamental rate-limiter slowing down a sustainable energy future. Very important problem. @p_ferragu Looking into this. No question that FSD should be viewed as reasonably valuable when doing a trade-in. @tobyliiiiiiiiii @Erdayastronaut For sure @Erdayastronaut Glad you’re ok @Virgin_Orbit Congratulations! @teslaownersSV This is a good one @MrBeastYT I whistle @DMC_Ryan @C_R_H_M @Tesla Cybertruck doesn’t need a garage @DMC_Ryan @Tesla It will be awesome @owenshift Good point @signalapp Your server-side code is doing too much @Wikipedia Happy birthday Wikipedia! So glad you exist. @TheOnion Guess you been watching Cobra Kai @DMC_Ryan @C_R_H_M @Tesla Cybertruck doesn’t need a garage @DMC_Ryan @Tesla It will be awesome @owenshift Good point @signalapp Your server-side code is doing too much @Wikipedia Happy birthday Wikipedia! So glad you exist. @TheOnion Guess you been watching Cobra Kai</td>\n",
       "      <td>The rate-limiting part or process in cell production is constantly changing   Cars &amp;amp; trucks stuck in traffic generate megatons of toxic gases &amp;amp; particulate, but  road tunnels under Miami would solve traffic &amp;amp; be an example to the world.   Spoke with  about tunnels last week. If Governor &amp;amp; Mayor want this done, we will do it.    With our giant casting machines, we are literally trying to make full-size cars in the same way that toy cars are made   Tegmark is an exceptionally smart &amp;amp; good human  The best manufacturing technology is in ultra high volume industries, like food &amp;amp; beverage, some medical (eg syringes) &amp;amp; toys Battery cell production is the fundamental rate-limiter slowing down a sustainable energy future. Very important problem.  Looking into this. No question that FSD should be viewed as reasonably valuable when doing a trade-in.   For sure  Glad you’re ok  Congratulations!  This is a good one  I whistle    Cybertruck doesn’t need a garage   It will be awesome  Good point  Your server-side code is doing too much  Happy birthday Wikipedia! So glad you exist.  Guess you been watching Cobra Kai    Cybertruck doesn’t need a garage   It will be awesome  Good point  Your server-side code is doing too much  Happy birthday Wikipedia! So glad you exist.  Guess you been watching Cobra Kai</td>\n",
       "      <td>0.998</td>\n",
       "      <td>0.316</td>\n",
       "      <td>0.031</td>\n",
       "      <td>0.653</td>\n",
       "      <td>positive</td>\n",
       "      <td>[rate-limiting, part, process, cell, production, constantly, changing, Cars, truck, stuck, traffic, generate, megaton, toxic, gas, particulate, road, tunnel, Miami, solve, traffic, example, world, Spoke, tunnel, last, week, Governor, Mayor, want, done, giant, casting, machine, literally, trying, make, full-size, car, way, toy, car, made, Tegmark, exceptionally, smart, good, human, best, manufacturing, technology, ultra, high, volume, industry, like, food, beverage, medical, eg, syrinx, toy, Battery, cell, production, fundamental, rate-limiter, slowing, sustainable, energy, future, important, problem, Looking, question, FSD, viewed, reasonably, valuable, trade-in, sure, Glad, ok, Congratulations, good, one, whistle, Cybertruck, need, garage, awesome, Good, point, server-side, code, much, Happy, birthday, Wikipedia, glad, ...]</td>\n",
       "    </tr>\n",
       "    <tr>\n",
       "      <th>2658</th>\n",
       "      <td>2021-01-20</td>\n",
       "      <td></td>\n",
       "      <td></td>\n",
       "      <td>0.000</td>\n",
       "      <td>0.000</td>\n",
       "      <td>0.000</td>\n",
       "      <td>0.000</td>\n",
       "      <td>neutral</td>\n",
       "      <td>[]</td>\n",
       "    </tr>\n",
       "  </tbody>\n",
       "</table>\n",
       "</div>"
      ],
      "text/plain": [
       "            date  \\\n",
       "2657  2021-01-19   \n",
       "2658  2021-01-20   \n",
       "\n",
       "                                                                                                                                                                                                                                                                                                                                                                                                                                                                                                                                                                                                                                                                                                                                                                                                                                                                                                                                                                                                                                                                                                                                                                                                                                                                                                                                                                                                                                                                                                                                                                                                                                                                                                                                                                                   tweet  \\\n",
       "2657   @kellyreid The rate-limiting part or process in cell production is constantly changing @FrancisSuarez @CityofMiami Cars &amp; trucks stuck in traffic generate megatons of toxic gases &amp; particulate, but @boringcompany road tunnels under Miami would solve traffic &amp; be an example to the world.   Spoke with @RonDeSantisFL about tunnels last week. If Governor &amp; Mayor want this done, we will do it. @RationalEtienne @OwenSparks_ @Tesla With our giant casting machines, we are literally trying to make full-size cars in the same way that toy cars are made @lexfridman @tegmark Tegmark is an exceptionally smart &amp; good human @OwenSparks_ The best manufacturing technology is in ultra high volume industries, like food &amp; beverage, some medical (eg syringes) &amp; toys Battery cell production is the fundamental rate-limiter slowing down a sustainable energy future. Very important problem. @p_ferragu Looking into this. No question that FSD should be viewed as reasonably valuable when doing a trade-in. @tobyliiiiiiiiii @Erdayastronaut For sure @Erdayastronaut Glad you’re ok @Virgin_Orbit Congratulations! @teslaownersSV This is a good one @MrBeastYT I whistle @DMC_Ryan @C_R_H_M @Tesla Cybertruck doesn’t need a garage @DMC_Ryan @Tesla It will be awesome @owenshift Good point @signalapp Your server-side code is doing too much @Wikipedia Happy birthday Wikipedia! So glad you exist. @TheOnion Guess you been watching Cobra Kai @DMC_Ryan @C_R_H_M @Tesla Cybertruck doesn’t need a garage @DMC_Ryan @Tesla It will be awesome @owenshift Good point @signalapp Your server-side code is doing too much @Wikipedia Happy birthday Wikipedia! So glad you exist. @TheOnion Guess you been watching Cobra Kai   \n",
       "2658                                                                                                                                                                                                                                                                                                                                                                                                                                                                                                                                                                                                                                                                                                                                                                                                                                                                                                                                                                                                                                                                                                                                                                                                                                                                                                                                                                                                                                                                                                                                                                                                                                                                                                                                                                                       \n",
       "\n",
       "                                                                                                                                                                                                                                                                                                                                                                                                                                                                                                                                                                                                                                                                                                                                                                                                                                                                                                                                                                                                                                                                                                                                                                                                                                                                                                                                                                                   cleaned_tweet  \\\n",
       "2657    The rate-limiting part or process in cell production is constantly changing   Cars &amp; trucks stuck in traffic generate megatons of toxic gases &amp; particulate, but  road tunnels under Miami would solve traffic &amp; be an example to the world.   Spoke with  about tunnels last week. If Governor &amp; Mayor want this done, we will do it.    With our giant casting machines, we are literally trying to make full-size cars in the same way that toy cars are made   Tegmark is an exceptionally smart &amp; good human  The best manufacturing technology is in ultra high volume industries, like food &amp; beverage, some medical (eg syringes) &amp; toys Battery cell production is the fundamental rate-limiter slowing down a sustainable energy future. Very important problem.  Looking into this. No question that FSD should be viewed as reasonably valuable when doing a trade-in.   For sure  Glad you’re ok  Congratulations!  This is a good one  I whistle    Cybertruck doesn’t need a garage   It will be awesome  Good point  Your server-side code is doing too much  Happy birthday Wikipedia! So glad you exist.  Guess you been watching Cobra Kai    Cybertruck doesn’t need a garage   It will be awesome  Good point  Your server-side code is doing too much  Happy birthday Wikipedia! So glad you exist.  Guess you been watching Cobra Kai   \n",
       "2658                                                                                                                                                                                                                                                                                                                                                                                                                                                                                                                                                                                                                                                                                                                                                                                                                                                                                                                                                                                                                                                                                                                                                                                                                                                                                                                                                                                               \n",
       "\n",
       "      Compound  Positive  Negative  Neutral Sentiment  \\\n",
       "2657     0.998     0.316     0.031    0.653  positive   \n",
       "2658     0.000     0.000     0.000    0.000   neutral   \n",
       "\n",
       "                                                                                                                                                                                                                                                                                                                                                                                                                                                                                                                                                                                                                                                                                                                                                                                                                                                                    tokens  \n",
       "2657  [rate-limiting, part, process, cell, production, constantly, changing, Cars, truck, stuck, traffic, generate, megaton, toxic, gas, particulate, road, tunnel, Miami, solve, traffic, example, world, Spoke, tunnel, last, week, Governor, Mayor, want, done, giant, casting, machine, literally, trying, make, full-size, car, way, toy, car, made, Tegmark, exceptionally, smart, good, human, best, manufacturing, technology, ultra, high, volume, industry, like, food, beverage, medical, eg, syrinx, toy, Battery, cell, production, fundamental, rate-limiter, slowing, sustainable, energy, future, important, problem, Looking, question, FSD, viewed, reasonably, valuable, trade-in, sure, Glad, ok, Congratulations, good, one, whistle, Cybertruck, need, garage, awesome, Good, point, server-side, code, much, Happy, birthday, Wikipedia, glad, ...]  \n",
       "2658                                                                                                                                                                                                                                                                                                                                                                                                                                                                                                                                                                                                                                                                                                                                                                                                                                                                    []  "
      ]
     },
     "execution_count": 12,
     "metadata": {},
     "output_type": "execute_result"
    }
   ],
   "source": [
    "# Add the tokens column to the Tweets DataFrame\n",
    "tweets_data[\"tokens\"] = tweets_data.cleaned_tweet.apply(tokenizer)\n",
    "tweets_data.tail(2)\n"
   ]
  },
  {
   "cell_type": "code",
   "execution_count": 13,
   "metadata": {},
   "outputs": [
    {
     "data": {
      "text/plain": [
       "neutral     1668\n",
       "positive     929\n",
       "negative      62\n",
       "Name: Sentiment, dtype: int64"
      ]
     },
     "execution_count": 13,
     "metadata": {},
     "output_type": "execute_result"
    }
   ],
   "source": [
    "tweets_data['Sentiment'].value_counts()"
   ]
  },
  {
   "cell_type": "code",
   "execution_count": 14,
   "metadata": {},
   "outputs": [],
   "source": [
    "# Save the Tweets DataFrame with the tokens as a csv\n",
    "save_csv=False\n",
    "if save_csv==True:\n",
    "    file_name=\"tokens_n_vader_sentiment.csv\"\n",
    "    output_file = Path(f\"../Resources/{file_name}\")\n",
    "    tweets_data.to_csv(f\"{output_file}\")\n"
   ]
  },
  {
   "cell_type": "markdown",
   "metadata": {},
   "source": [
    "## NGrams and Frequency Analysis"
   ]
  },
  {
   "cell_type": "code",
   "execution_count": 15,
   "metadata": {},
   "outputs": [],
   "source": [
    "# Imports\n",
    "from collections import Counter\n",
    "from nltk import ngrams\n",
    "import inspect"
   ]
  },
  {
   "cell_type": "code",
   "execution_count": 16,
   "metadata": {},
   "outputs": [],
   "source": [
    "def seriesToList(s):\n",
    "    \"\"\"\"Converts series into one list\"\"\"\n",
    "    \n",
    "    lst = []        \n",
    "    for ele in s:  \n",
    "        lst += ele \n",
    "    return lst\n",
    "\n",
    "# Convert Tokens column in Tweets DataFrame into one list\n",
    "tweets = seriesToList(tweets_data[\"tokens\"])\n"
   ]
  },
  {
   "cell_type": "code",
   "execution_count": 17,
   "metadata": {},
   "outputs": [
    {
     "name": "stdout",
     "output_type": "stream",
     "text": [
      "Bigrams\n"
     ]
    },
    {
     "data": {
      "text/plain": [
       "[(('Model', '3'), 176),\n",
       " (('Falcon', '9'), 67),\n",
       " (('next', 'week'), 60),\n",
       " (('next', 'year'), 60),\n",
       " (('coming', 'soon'), 49),\n",
       " (('Falcon', 'Heavy'), 48),\n",
       " (('Model', 'X'), 47),\n",
       " (('Good', 'point'), 43),\n",
       " (('Coming', 'soon'), 41),\n",
       " (('year', 'ago'), 40),\n",
       " (('Boring', 'Company'), 38),\n",
       " (('Tesla', 'Model'), 35),\n",
       " (('Pretty', 'much'), 35),\n",
       " (('next', 'month'), 34),\n",
       " (('Tesla', 'owner'), 33)]"
      ]
     },
     "metadata": {},
     "output_type": "display_data"
    },
    {
     "name": "stdout",
     "output_type": "stream",
     "text": [
      "\n",
      "Unigrams\n"
     ]
    },
    {
     "data": {
      "text/plain": [
       "[(('Tesla',), 1058),\n",
       " (('car',), 543),\n",
       " (('Yes',), 479),\n",
       " (('year',), 398),\n",
       " (('Model',), 397),\n",
       " (('like',), 390),\n",
       " (('time',), 333),\n",
       " (('good',), 317),\n",
       " (('make',), 314),\n",
       " (('3',), 309),\n",
       " (('much',), 294),\n",
       " (('need',), 282),\n",
       " (('one',), 261),\n",
       " (('rocket',), 255),\n",
       " (('great',), 254)]"
      ]
     },
     "metadata": {},
     "output_type": "display_data"
    }
   ],
   "source": [
    "# Create bigrams\n",
    "print(\"Bigrams\")\n",
    "bigrams = ngrams(tweets, n=2)\n",
    "tweets_dict = dict(Counter(bigrams).most_common(15))\n",
    "tweets_bigrams = tweets_dict.items()\n",
    "display(list(tweets_bigrams))\n",
    "\n",
    "print(\"\")\n",
    "# Create unigrams\n",
    "print(\"Unigrams\")\n",
    "unigrams = ngrams(tweets, n=1)\n",
    "tweets_dict = dict(Counter(unigrams).most_common(15))\n",
    "tweets_unigrams = tweets_dict.items()\n",
    "display(list(tweets_unigrams))"
   ]
  },
  {
   "cell_type": "code",
   "execution_count": 18,
   "metadata": {},
   "outputs": [
    {
     "data": {
      "text/html": [
       "<div>\n",
       "<style scoped>\n",
       "    .dataframe tbody tr th:only-of-type {\n",
       "        vertical-align: middle;\n",
       "    }\n",
       "\n",
       "    .dataframe tbody tr th {\n",
       "        vertical-align: top;\n",
       "    }\n",
       "\n",
       "    .dataframe thead th {\n",
       "        text-align: right;\n",
       "    }\n",
       "</style>\n",
       "<table border=\"1\" class=\"dataframe\">\n",
       "  <thead>\n",
       "    <tr style=\"text-align: right;\">\n",
       "      <th></th>\n",
       "      <th>0</th>\n",
       "    </tr>\n",
       "  </thead>\n",
       "  <tbody>\n",
       "    <tr>\n",
       "      <th>0</th>\n",
       "      <td>model 3</td>\n",
       "    </tr>\n",
       "    <tr>\n",
       "      <th>1</th>\n",
       "      <td>coming soon</td>\n",
       "    </tr>\n",
       "    <tr>\n",
       "      <th>2</th>\n",
       "      <td>next week</td>\n",
       "    </tr>\n",
       "    <tr>\n",
       "      <th>3</th>\n",
       "      <td>next year</td>\n",
       "    </tr>\n",
       "    <tr>\n",
       "      <th>4</th>\n",
       "      <td>falcon 9</td>\n",
       "    </tr>\n",
       "    <tr>\n",
       "      <th>5</th>\n",
       "      <td>falcon heavy</td>\n",
       "    </tr>\n",
       "    <tr>\n",
       "      <th>6</th>\n",
       "      <td>model x</td>\n",
       "    </tr>\n",
       "    <tr>\n",
       "      <th>7</th>\n",
       "      <td>next month</td>\n",
       "    </tr>\n",
       "    <tr>\n",
       "      <th>8</th>\n",
       "      <td>space station</td>\n",
       "    </tr>\n",
       "    <tr>\n",
       "      <th>9</th>\n",
       "      <td>sustainable energy</td>\n",
       "    </tr>\n",
       "  </tbody>\n",
       "</table>\n",
       "</div>"
      ],
      "text/plain": [
       "                    0\n",
       "0             model 3\n",
       "1         coming soon\n",
       "2           next week\n",
       "3           next year\n",
       "4            falcon 9\n",
       "5        falcon heavy\n",
       "6             model x\n",
       "7          next month\n",
       "8       space station\n",
       "9  sustainable energy"
      ]
     },
     "metadata": {},
     "output_type": "display_data"
    }
   ],
   "source": [
    "# Create a list of keywords\n",
    "keywords = ['model 3', 'coming soon', 'next week', \n",
    "            'next year', 'falcon 9', 'falcon heavy', \n",
    "            'model x', 'next month', 'space station', \n",
    "            'sustainable energy', 'electric car', \n",
    "            'climate change', 'software update', \n",
    "            'dual motor', 'self-driving', 'giga berlin', \n",
    "            'rocket', 'engine', 'solar power', 'SpaceX', \n",
    "           ]\n",
    "\n",
    "keywords1 = ['launch', 'production', 'starship', \n",
    "             'mars', 'time', 'rocket', \n",
    "             'soon', 'tesla', 'spacex'\n",
    "            ]\n",
    "\n",
    "# Display the keywords\n",
    "display(pd.DataFrame(keywords).head(10))\n"
   ]
  },
  {
   "cell_type": "code",
   "execution_count": 19,
   "metadata": {},
   "outputs": [],
   "source": [
    "def token_count(tokens, N=15):\n",
    "    \"\"\"Returns the top N tokens from the frequency count\"\"\"\n",
    "    return Counter(tokens).most_common(N)\n"
   ]
  },
  {
   "cell_type": "code",
   "execution_count": 20,
   "metadata": {},
   "outputs": [
    {
     "data": {
      "text/plain": [
       "[('Tesla', 1058),\n",
       " ('car', 543),\n",
       " ('Yes', 479),\n",
       " ('year', 398),\n",
       " ('Model', 397),\n",
       " ('like', 390),\n",
       " ('time', 333),\n",
       " ('good', 317),\n",
       " ('make', 314),\n",
       " ('3', 309),\n",
       " ('much', 294),\n",
       " ('need', 282),\n",
       " ('one', 261),\n",
       " ('rocket', 255),\n",
       " ('great', 254)]"
      ]
     },
     "execution_count": 20,
     "metadata": {},
     "output_type": "execute_result"
    }
   ],
   "source": [
    "token_count(tweets)"
   ]
  },
  {
   "cell_type": "markdown",
   "metadata": {},
   "source": [
    "---"
   ]
  },
  {
   "cell_type": "markdown",
   "metadata": {},
   "source": [
    "# One Hot Encoding\n",
    "May be deleted.  \n",
    "Note: we need to \"uncomment\" the cell 9 `get_dummies` for sentiment column if we delete this section."
   ]
  },
  {
   "cell_type": "code",
   "execution_count": 21,
   "metadata": {},
   "outputs": [],
   "source": [
    "# Create the OneHotEncoder instance\n",
    "from sklearn.preprocessing import OneHotEncoder, StandardScaler\n",
    "enc = OneHotEncoder()"
   ]
  },
  {
   "cell_type": "code",
   "execution_count": 22,
   "metadata": {},
   "outputs": [
    {
     "data": {
      "text/plain": [
       "OneHotEncoder()"
      ]
     },
     "execution_count": 22,
     "metadata": {},
     "output_type": "execute_result"
    }
   ],
   "source": [
    "# Fit the OneHotEncoder\n",
    "class_values = tweets_data['Sentiment'].values.reshape(-1, 1)\n",
    "enc.fit(class_values)"
   ]
  },
  {
   "cell_type": "code",
   "execution_count": 23,
   "metadata": {},
   "outputs": [
    {
     "data": {
      "text/plain": [
       "[array(['negative', 'neutral', 'positive'], dtype=object)]"
      ]
     },
     "execution_count": 23,
     "metadata": {},
     "output_type": "execute_result"
    }
   ],
   "source": [
    "# Fetch the categories identified by the OneHotEncoder\n",
    "enc.categories_"
   ]
  },
  {
   "cell_type": "code",
   "execution_count": 24,
   "metadata": {},
   "outputs": [
    {
     "data": {
      "text/plain": [
       "array([[0., 1., 0.],\n",
       "       [0., 1., 0.],\n",
       "       [0., 1., 0.],\n",
       "       ...,\n",
       "       [0., 0., 1.],\n",
       "       [0., 0., 1.],\n",
       "       [0., 1., 0.]])"
      ]
     },
     "execution_count": 24,
     "metadata": {},
     "output_type": "execute_result"
    }
   ],
   "source": [
    "# Encode categories\n",
    "class_encoded = enc.transform(class_values).toarray()\n",
    "class_encoded"
   ]
  },
  {
   "cell_type": "code",
   "execution_count": 25,
   "metadata": {},
   "outputs": [
    {
     "data": {
      "text/html": [
       "<div>\n",
       "<style scoped>\n",
       "    .dataframe tbody tr th:only-of-type {\n",
       "        vertical-align: middle;\n",
       "    }\n",
       "\n",
       "    .dataframe tbody tr th {\n",
       "        vertical-align: top;\n",
       "    }\n",
       "\n",
       "    .dataframe thead th {\n",
       "        text-align: right;\n",
       "    }\n",
       "</style>\n",
       "<table border=\"1\" class=\"dataframe\">\n",
       "  <thead>\n",
       "    <tr style=\"text-align: right;\">\n",
       "      <th></th>\n",
       "      <th>neg_enc</th>\n",
       "      <th>neu_enc</th>\n",
       "      <th>pos_enc</th>\n",
       "    </tr>\n",
       "  </thead>\n",
       "  <tbody>\n",
       "    <tr>\n",
       "      <th>1</th>\n",
       "      <td>0.0</td>\n",
       "      <td>1.0</td>\n",
       "      <td>0.0</td>\n",
       "    </tr>\n",
       "    <tr>\n",
       "      <th>2</th>\n",
       "      <td>0.0</td>\n",
       "      <td>1.0</td>\n",
       "      <td>0.0</td>\n",
       "    </tr>\n",
       "  </tbody>\n",
       "</table>\n",
       "</div>"
      ],
      "text/plain": [
       "   neg_enc  neu_enc  pos_enc\n",
       "1      0.0      1.0      0.0\n",
       "2      0.0      1.0      0.0"
      ]
     },
     "metadata": {},
     "output_type": "display_data"
    },
    {
     "data": {
      "text/html": [
       "<div>\n",
       "<style scoped>\n",
       "    .dataframe tbody tr th:only-of-type {\n",
       "        vertical-align: middle;\n",
       "    }\n",
       "\n",
       "    .dataframe tbody tr th {\n",
       "        vertical-align: top;\n",
       "    }\n",
       "\n",
       "    .dataframe thead th {\n",
       "        text-align: right;\n",
       "    }\n",
       "</style>\n",
       "<table border=\"1\" class=\"dataframe\">\n",
       "  <thead>\n",
       "    <tr style=\"text-align: right;\">\n",
       "      <th></th>\n",
       "      <th>neg_enc</th>\n",
       "      <th>neu_enc</th>\n",
       "      <th>pos_enc</th>\n",
       "    </tr>\n",
       "  </thead>\n",
       "  <tbody>\n",
       "    <tr>\n",
       "      <th>100</th>\n",
       "      <td>0.0</td>\n",
       "      <td>1.0</td>\n",
       "      <td>0.0</td>\n",
       "    </tr>\n",
       "    <tr>\n",
       "      <th>101</th>\n",
       "      <td>0.0</td>\n",
       "      <td>1.0</td>\n",
       "      <td>0.0</td>\n",
       "    </tr>\n",
       "  </tbody>\n",
       "</table>\n",
       "</div>"
      ],
      "text/plain": [
       "     neg_enc  neu_enc  pos_enc\n",
       "100      0.0      1.0      0.0\n",
       "101      0.0      1.0      0.0"
      ]
     },
     "metadata": {},
     "output_type": "display_data"
    }
   ],
   "source": [
    "# Create a DataFrame with the encoded class data\n",
    "encoded_df = pd.DataFrame(class_encoded, columns = [\"neg_enc\", \"neu_enc\", \"pos_enc\"])\n",
    "# Some samples of the encoded data\n",
    "display(encoded_df.iloc[1:3])\n",
    "display(encoded_df.iloc[100:102])"
   ]
  },
  {
   "cell_type": "code",
   "execution_count": 26,
   "metadata": {},
   "outputs": [
    {
     "data": {
      "text/html": [
       "<div>\n",
       "<style scoped>\n",
       "    .dataframe tbody tr th:only-of-type {\n",
       "        vertical-align: middle;\n",
       "    }\n",
       "\n",
       "    .dataframe tbody tr th {\n",
       "        vertical-align: top;\n",
       "    }\n",
       "\n",
       "    .dataframe thead th {\n",
       "        text-align: right;\n",
       "    }\n",
       "</style>\n",
       "<table border=\"1\" class=\"dataframe\">\n",
       "  <thead>\n",
       "    <tr style=\"text-align: right;\">\n",
       "      <th></th>\n",
       "      <th>tweet</th>\n",
       "      <th>cleaned_tweet</th>\n",
       "      <th>Compound</th>\n",
       "      <th>Positive</th>\n",
       "      <th>Negative</th>\n",
       "      <th>Neutral</th>\n",
       "      <th>Sentiment</th>\n",
       "      <th>tokens</th>\n",
       "      <th>neg_enc</th>\n",
       "      <th>neu_enc</th>\n",
       "      <th>pos_enc</th>\n",
       "    </tr>\n",
       "    <tr>\n",
       "      <th>date</th>\n",
       "      <th></th>\n",
       "      <th></th>\n",
       "      <th></th>\n",
       "      <th></th>\n",
       "      <th></th>\n",
       "      <th></th>\n",
       "      <th></th>\n",
       "      <th></th>\n",
       "      <th></th>\n",
       "      <th></th>\n",
       "      <th></th>\n",
       "    </tr>\n",
       "  </thead>\n",
       "  <tbody>\n",
       "    <tr>\n",
       "      <th>2021-01-19</th>\n",
       "      <td>@kellyreid The rate-limiting part or process in cell production is constantly changing @FrancisSuarez @CityofMiami Cars &amp;amp; trucks stuck in traffic generate megatons of toxic gases &amp;amp; particulate, but @boringcompany road tunnels under Miami would solve traffic &amp;amp; be an example to the world.   Spoke with @RonDeSantisFL about tunnels last week. If Governor &amp;amp; Mayor want this done, we will do it. @RationalEtienne @OwenSparks_ @Tesla With our giant casting machines, we are literally trying to make full-size cars in the same way that toy cars are made @lexfridman @tegmark Tegmark is an exceptionally smart &amp;amp; good human @OwenSparks_ The best manufacturing technology is in ultra high volume industries, like food &amp;amp; beverage, some medical (eg syringes) &amp;amp; toys Battery cell production is the fundamental rate-limiter slowing down a sustainable energy future. Very important problem. @p_ferragu Looking into this. No question that FSD should be viewed as reasonably valuable when doing a trade-in. @tobyliiiiiiiiii @Erdayastronaut For sure @Erdayastronaut Glad you’re ok @Virgin_Orbit Congratulations! @teslaownersSV This is a good one @MrBeastYT I whistle @DMC_Ryan @C_R_H_M @Tesla Cybertruck doesn’t need a garage @DMC_Ryan @Tesla It will be awesome @owenshift Good point @signalapp Your server-side code is doing too much @Wikipedia Happy birthday Wikipedia! So glad you exist. @TheOnion Guess you been watching Cobra Kai @DMC_Ryan @C_R_H_M @Tesla Cybertruck doesn’t need a garage @DMC_Ryan @Tesla It will be awesome @owenshift Good point @signalapp Your server-side code is doing too much @Wikipedia Happy birthday Wikipedia! So glad you exist. @TheOnion Guess you been watching Cobra Kai</td>\n",
       "      <td>The rate-limiting part or process in cell production is constantly changing   Cars &amp;amp; trucks stuck in traffic generate megatons of toxic gases &amp;amp; particulate, but  road tunnels under Miami would solve traffic &amp;amp; be an example to the world.   Spoke with  about tunnels last week. If Governor &amp;amp; Mayor want this done, we will do it.    With our giant casting machines, we are literally trying to make full-size cars in the same way that toy cars are made   Tegmark is an exceptionally smart &amp;amp; good human  The best manufacturing technology is in ultra high volume industries, like food &amp;amp; beverage, some medical (eg syringes) &amp;amp; toys Battery cell production is the fundamental rate-limiter slowing down a sustainable energy future. Very important problem.  Looking into this. No question that FSD should be viewed as reasonably valuable when doing a trade-in.   For sure  Glad you’re ok  Congratulations!  This is a good one  I whistle    Cybertruck doesn’t need a garage   It will be awesome  Good point  Your server-side code is doing too much  Happy birthday Wikipedia! So glad you exist.  Guess you been watching Cobra Kai    Cybertruck doesn’t need a garage   It will be awesome  Good point  Your server-side code is doing too much  Happy birthday Wikipedia! So glad you exist.  Guess you been watching Cobra Kai</td>\n",
       "      <td>0.998</td>\n",
       "      <td>0.316</td>\n",
       "      <td>0.031</td>\n",
       "      <td>0.653</td>\n",
       "      <td>positive</td>\n",
       "      <td>[rate-limiting, part, process, cell, production, constantly, changing, Cars, truck, stuck, traffic, generate, megaton, toxic, gas, particulate, road, tunnel, Miami, solve, traffic, example, world, Spoke, tunnel, last, week, Governor, Mayor, want, done, giant, casting, machine, literally, trying, make, full-size, car, way, toy, car, made, Tegmark, exceptionally, smart, good, human, best, manufacturing, technology, ultra, high, volume, industry, like, food, beverage, medical, eg, syrinx, toy, Battery, cell, production, fundamental, rate-limiter, slowing, sustainable, energy, future, important, problem, Looking, question, FSD, viewed, reasonably, valuable, trade-in, sure, Glad, ok, Congratulations, good, one, whistle, Cybertruck, need, garage, awesome, Good, point, server-side, code, much, Happy, birthday, Wikipedia, glad, ...]</td>\n",
       "      <td>0.0</td>\n",
       "      <td>0.0</td>\n",
       "      <td>1.0</td>\n",
       "    </tr>\n",
       "    <tr>\n",
       "      <th>2021-01-20</th>\n",
       "      <td></td>\n",
       "      <td></td>\n",
       "      <td>0.000</td>\n",
       "      <td>0.000</td>\n",
       "      <td>0.000</td>\n",
       "      <td>0.000</td>\n",
       "      <td>neutral</td>\n",
       "      <td>[]</td>\n",
       "      <td>0.0</td>\n",
       "      <td>1.0</td>\n",
       "      <td>0.0</td>\n",
       "    </tr>\n",
       "  </tbody>\n",
       "</table>\n",
       "</div>"
      ],
      "text/plain": [
       "                                                                                                                                                                                                                                                                                                                                                                                                                                                                                                                                                                                                                                                                                                                                                                                                                                                                                                                                                                                                                                                                                                                                                                                                                                                                                                                                                                                                                                                                                                                                                                                                                                                                                                                                                                                         tweet  \\\n",
       "date                                                                                                                                                                                                                                                                                                                                                                                                                                                                                                                                                                                                                                                                                                                                                                                                                                                                                                                                                                                                                                                                                                                                                                                                                                                                                                                                                                                                                                                                                                                                                                                                                                                                                                                                                                                             \n",
       "2021-01-19   @kellyreid The rate-limiting part or process in cell production is constantly changing @FrancisSuarez @CityofMiami Cars &amp; trucks stuck in traffic generate megatons of toxic gases &amp; particulate, but @boringcompany road tunnels under Miami would solve traffic &amp; be an example to the world.   Spoke with @RonDeSantisFL about tunnels last week. If Governor &amp; Mayor want this done, we will do it. @RationalEtienne @OwenSparks_ @Tesla With our giant casting machines, we are literally trying to make full-size cars in the same way that toy cars are made @lexfridman @tegmark Tegmark is an exceptionally smart &amp; good human @OwenSparks_ The best manufacturing technology is in ultra high volume industries, like food &amp; beverage, some medical (eg syringes) &amp; toys Battery cell production is the fundamental rate-limiter slowing down a sustainable energy future. Very important problem. @p_ferragu Looking into this. No question that FSD should be viewed as reasonably valuable when doing a trade-in. @tobyliiiiiiiiii @Erdayastronaut For sure @Erdayastronaut Glad you’re ok @Virgin_Orbit Congratulations! @teslaownersSV This is a good one @MrBeastYT I whistle @DMC_Ryan @C_R_H_M @Tesla Cybertruck doesn’t need a garage @DMC_Ryan @Tesla It will be awesome @owenshift Good point @signalapp Your server-side code is doing too much @Wikipedia Happy birthday Wikipedia! So glad you exist. @TheOnion Guess you been watching Cobra Kai @DMC_Ryan @C_R_H_M @Tesla Cybertruck doesn’t need a garage @DMC_Ryan @Tesla It will be awesome @owenshift Good point @signalapp Your server-side code is doing too much @Wikipedia Happy birthday Wikipedia! So glad you exist. @TheOnion Guess you been watching Cobra Kai   \n",
       "2021-01-20                                                                                                                                                                                                                                                                                                                                                                                                                                                                                                                                                                                                                                                                                                                                                                                                                                                                                                                                                                                                                                                                                                                                                                                                                                                                                                                                                                                                                                                                                                                                                                                                                                                                                                                                                                                       \n",
       "\n",
       "                                                                                                                                                                                                                                                                                                                                                                                                                                                                                                                                                                                                                                                                                                                                                                                                                                                                                                                                                                                                                                                                                                                                                                                                                                                                                                                                                                                         cleaned_tweet  \\\n",
       "date                                                                                                                                                                                                                                                                                                                                                                                                                                                                                                                                                                                                                                                                                                                                                                                                                                                                                                                                                                                                                                                                                                                                                                                                                                                                                                                                                                                                     \n",
       "2021-01-19    The rate-limiting part or process in cell production is constantly changing   Cars &amp; trucks stuck in traffic generate megatons of toxic gases &amp; particulate, but  road tunnels under Miami would solve traffic &amp; be an example to the world.   Spoke with  about tunnels last week. If Governor &amp; Mayor want this done, we will do it.    With our giant casting machines, we are literally trying to make full-size cars in the same way that toy cars are made   Tegmark is an exceptionally smart &amp; good human  The best manufacturing technology is in ultra high volume industries, like food &amp; beverage, some medical (eg syringes) &amp; toys Battery cell production is the fundamental rate-limiter slowing down a sustainable energy future. Very important problem.  Looking into this. No question that FSD should be viewed as reasonably valuable when doing a trade-in.   For sure  Glad you’re ok  Congratulations!  This is a good one  I whistle    Cybertruck doesn’t need a garage   It will be awesome  Good point  Your server-side code is doing too much  Happy birthday Wikipedia! So glad you exist.  Guess you been watching Cobra Kai    Cybertruck doesn’t need a garage   It will be awesome  Good point  Your server-side code is doing too much  Happy birthday Wikipedia! So glad you exist.  Guess you been watching Cobra Kai   \n",
       "2021-01-20                                                                                                                                                                                                                                                                                                                                                                                                                                                                                                                                                                                                                                                                                                                                                                                                                                                                                                                                                                                                                                                                                                                                                                                                                                                                                                                                                                                               \n",
       "\n",
       "            Compound  Positive  Negative  Neutral Sentiment  \\\n",
       "date                                                          \n",
       "2021-01-19     0.998     0.316     0.031    0.653  positive   \n",
       "2021-01-20     0.000     0.000     0.000    0.000   neutral   \n",
       "\n",
       "                                                                                                                                                                                                                                                                                                                                                                                                                                                                                                                                                                                                                                                                                                                                                                                                                                                                          tokens  \\\n",
       "date                                                                                                                                                                                                                                                                                                                                                                                                                                                                                                                                                                                                                                                                                                                                                                                                                                                                               \n",
       "2021-01-19  [rate-limiting, part, process, cell, production, constantly, changing, Cars, truck, stuck, traffic, generate, megaton, toxic, gas, particulate, road, tunnel, Miami, solve, traffic, example, world, Spoke, tunnel, last, week, Governor, Mayor, want, done, giant, casting, machine, literally, trying, make, full-size, car, way, toy, car, made, Tegmark, exceptionally, smart, good, human, best, manufacturing, technology, ultra, high, volume, industry, like, food, beverage, medical, eg, syrinx, toy, Battery, cell, production, fundamental, rate-limiter, slowing, sustainable, energy, future, important, problem, Looking, question, FSD, viewed, reasonably, valuable, trade-in, sure, Glad, ok, Congratulations, good, one, whistle, Cybertruck, need, garage, awesome, Good, point, server-side, code, much, Happy, birthday, Wikipedia, glad, ...]   \n",
       "2021-01-20                                                                                                                                                                                                                                                                                                                                                                                                                                                                                                                                                                                                                                                                                                                                                                                                                                                                    []   \n",
       "\n",
       "            neg_enc  neu_enc  pos_enc  \n",
       "date                                   \n",
       "2021-01-19      0.0      0.0      1.0  \n",
       "2021-01-20      0.0      1.0      0.0  "
      ]
     },
     "execution_count": 26,
     "metadata": {},
     "output_type": "execute_result"
    }
   ],
   "source": [
    "# Function to concatinate two dataframes\n",
    "def concat_dataframes(df, df1):\n",
    "    \"\"\"Functions to concatinate two dataframes\"\"\"\n",
    "    \n",
    "    df = pd.concat([df, df1], axis=1)\n",
    "    df = df.set_index('date')\n",
    "    return df\n",
    "\n",
    "tweets_data = concat_dataframes(tweets_data, encoded_df)\n",
    "tweets_data.tail(2)"
   ]
  },
  {
   "cell_type": "code",
   "execution_count": 27,
   "metadata": {},
   "outputs": [
    {
     "data": {
      "text/plain": [
       "tweet             object\n",
       "cleaned_tweet     object\n",
       "Compound         float64\n",
       "Positive         float64\n",
       "Negative         float64\n",
       "Neutral          float64\n",
       "Sentiment          uint8\n",
       "tokens            object\n",
       "neg_enc          float64\n",
       "neu_enc          float64\n",
       "pos_enc          float64\n",
       "dtype: object"
      ]
     },
     "execution_count": 27,
     "metadata": {},
     "output_type": "execute_result"
    }
   ],
   "source": [
    "# Get dummy variables for Sentiment column\n",
    "tweets_data['Sentiment'] = pd.get_dummies(tweets_data.Sentiment)\n",
    "tweets_data.dtypes"
   ]
  },
  {
   "cell_type": "code",
   "execution_count": 28,
   "metadata": {},
   "outputs": [
    {
     "data": {
      "text/html": [
       "<div>\n",
       "<style scoped>\n",
       "    .dataframe tbody tr th:only-of-type {\n",
       "        vertical-align: middle;\n",
       "    }\n",
       "\n",
       "    .dataframe tbody tr th {\n",
       "        vertical-align: top;\n",
       "    }\n",
       "\n",
       "    .dataframe thead th {\n",
       "        text-align: right;\n",
       "    }\n",
       "</style>\n",
       "<table border=\"1\" class=\"dataframe\">\n",
       "  <thead>\n",
       "    <tr style=\"text-align: right;\">\n",
       "      <th></th>\n",
       "      <th>tweet</th>\n",
       "      <th>cleaned_tweet</th>\n",
       "      <th>Compound</th>\n",
       "      <th>Positive</th>\n",
       "      <th>Negative</th>\n",
       "      <th>Neutral</th>\n",
       "      <th>neg_enc</th>\n",
       "      <th>neu_enc</th>\n",
       "      <th>pos_enc</th>\n",
       "      <th>Sentiment</th>\n",
       "      <th>tokens</th>\n",
       "    </tr>\n",
       "    <tr>\n",
       "      <th>date</th>\n",
       "      <th></th>\n",
       "      <th></th>\n",
       "      <th></th>\n",
       "      <th></th>\n",
       "      <th></th>\n",
       "      <th></th>\n",
       "      <th></th>\n",
       "      <th></th>\n",
       "      <th></th>\n",
       "      <th></th>\n",
       "      <th></th>\n",
       "    </tr>\n",
       "  </thead>\n",
       "  <tbody>\n",
       "    <tr>\n",
       "      <th>2021-01-19</th>\n",
       "      <td>@kellyreid The rate-limiting part or process in cell production is constantly changing @FrancisSuarez @CityofMiami Cars &amp;amp; trucks stuck in traffic generate megatons of toxic gases &amp;amp; particulate, but @boringcompany road tunnels under Miami would solve traffic &amp;amp; be an example to the world.   Spoke with @RonDeSantisFL about tunnels last week. If Governor &amp;amp; Mayor want this done, we will do it. @RationalEtienne @OwenSparks_ @Tesla With our giant casting machines, we are literally trying to make full-size cars in the same way that toy cars are made @lexfridman @tegmark Tegmark is an exceptionally smart &amp;amp; good human @OwenSparks_ The best manufacturing technology is in ultra high volume industries, like food &amp;amp; beverage, some medical (eg syringes) &amp;amp; toys Battery cell production is the fundamental rate-limiter slowing down a sustainable energy future. Very important problem. @p_ferragu Looking into this. No question that FSD should be viewed as reasonably valuable when doing a trade-in. @tobyliiiiiiiiii @Erdayastronaut For sure @Erdayastronaut Glad you’re ok @Virgin_Orbit Congratulations! @teslaownersSV This is a good one @MrBeastYT I whistle @DMC_Ryan @C_R_H_M @Tesla Cybertruck doesn’t need a garage @DMC_Ryan @Tesla It will be awesome @owenshift Good point @signalapp Your server-side code is doing too much @Wikipedia Happy birthday Wikipedia! So glad you exist. @TheOnion Guess you been watching Cobra Kai @DMC_Ryan @C_R_H_M @Tesla Cybertruck doesn’t need a garage @DMC_Ryan @Tesla It will be awesome @owenshift Good point @signalapp Your server-side code is doing too much @Wikipedia Happy birthday Wikipedia! So glad you exist. @TheOnion Guess you been watching Cobra Kai</td>\n",
       "      <td>The rate-limiting part or process in cell production is constantly changing   Cars &amp;amp; trucks stuck in traffic generate megatons of toxic gases &amp;amp; particulate, but  road tunnels under Miami would solve traffic &amp;amp; be an example to the world.   Spoke with  about tunnels last week. If Governor &amp;amp; Mayor want this done, we will do it.    With our giant casting machines, we are literally trying to make full-size cars in the same way that toy cars are made   Tegmark is an exceptionally smart &amp;amp; good human  The best manufacturing technology is in ultra high volume industries, like food &amp;amp; beverage, some medical (eg syringes) &amp;amp; toys Battery cell production is the fundamental rate-limiter slowing down a sustainable energy future. Very important problem.  Looking into this. No question that FSD should be viewed as reasonably valuable when doing a trade-in.   For sure  Glad you’re ok  Congratulations!  This is a good one  I whistle    Cybertruck doesn’t need a garage   It will be awesome  Good point  Your server-side code is doing too much  Happy birthday Wikipedia! So glad you exist.  Guess you been watching Cobra Kai    Cybertruck doesn’t need a garage   It will be awesome  Good point  Your server-side code is doing too much  Happy birthday Wikipedia! So glad you exist.  Guess you been watching Cobra Kai</td>\n",
       "      <td>0.998</td>\n",
       "      <td>0.316</td>\n",
       "      <td>0.031</td>\n",
       "      <td>0.653</td>\n",
       "      <td>0.0</td>\n",
       "      <td>0.0</td>\n",
       "      <td>1.0</td>\n",
       "      <td>0</td>\n",
       "      <td>[rate-limiting, part, process, cell, production, constantly, changing, Cars, truck, stuck, traffic, generate, megaton, toxic, gas, particulate, road, tunnel, Miami, solve, traffic, example, world, Spoke, tunnel, last, week, Governor, Mayor, want, done, giant, casting, machine, literally, trying, make, full-size, car, way, toy, car, made, Tegmark, exceptionally, smart, good, human, best, manufacturing, technology, ultra, high, volume, industry, like, food, beverage, medical, eg, syrinx, toy, Battery, cell, production, fundamental, rate-limiter, slowing, sustainable, energy, future, important, problem, Looking, question, FSD, viewed, reasonably, valuable, trade-in, sure, Glad, ok, Congratulations, good, one, whistle, Cybertruck, need, garage, awesome, Good, point, server-side, code, much, Happy, birthday, Wikipedia, glad, ...]</td>\n",
       "    </tr>\n",
       "    <tr>\n",
       "      <th>2021-01-20</th>\n",
       "      <td></td>\n",
       "      <td></td>\n",
       "      <td>0.000</td>\n",
       "      <td>0.000</td>\n",
       "      <td>0.000</td>\n",
       "      <td>0.000</td>\n",
       "      <td>0.0</td>\n",
       "      <td>1.0</td>\n",
       "      <td>0.0</td>\n",
       "      <td>0</td>\n",
       "      <td>[]</td>\n",
       "    </tr>\n",
       "  </tbody>\n",
       "</table>\n",
       "</div>"
      ],
      "text/plain": [
       "                                                                                                                                                                                                                                                                                                                                                                                                                                                                                                                                                                                                                                                                                                                                                                                                                                                                                                                                                                                                                                                                                                                                                                                                                                                                                                                                                                                                                                                                                                                                                                                                                                                                                                                                                                                         tweet  \\\n",
       "date                                                                                                                                                                                                                                                                                                                                                                                                                                                                                                                                                                                                                                                                                                                                                                                                                                                                                                                                                                                                                                                                                                                                                                                                                                                                                                                                                                                                                                                                                                                                                                                                                                                                                                                                                                                             \n",
       "2021-01-19   @kellyreid The rate-limiting part or process in cell production is constantly changing @FrancisSuarez @CityofMiami Cars &amp; trucks stuck in traffic generate megatons of toxic gases &amp; particulate, but @boringcompany road tunnels under Miami would solve traffic &amp; be an example to the world.   Spoke with @RonDeSantisFL about tunnels last week. If Governor &amp; Mayor want this done, we will do it. @RationalEtienne @OwenSparks_ @Tesla With our giant casting machines, we are literally trying to make full-size cars in the same way that toy cars are made @lexfridman @tegmark Tegmark is an exceptionally smart &amp; good human @OwenSparks_ The best manufacturing technology is in ultra high volume industries, like food &amp; beverage, some medical (eg syringes) &amp; toys Battery cell production is the fundamental rate-limiter slowing down a sustainable energy future. Very important problem. @p_ferragu Looking into this. No question that FSD should be viewed as reasonably valuable when doing a trade-in. @tobyliiiiiiiiii @Erdayastronaut For sure @Erdayastronaut Glad you’re ok @Virgin_Orbit Congratulations! @teslaownersSV This is a good one @MrBeastYT I whistle @DMC_Ryan @C_R_H_M @Tesla Cybertruck doesn’t need a garage @DMC_Ryan @Tesla It will be awesome @owenshift Good point @signalapp Your server-side code is doing too much @Wikipedia Happy birthday Wikipedia! So glad you exist. @TheOnion Guess you been watching Cobra Kai @DMC_Ryan @C_R_H_M @Tesla Cybertruck doesn’t need a garage @DMC_Ryan @Tesla It will be awesome @owenshift Good point @signalapp Your server-side code is doing too much @Wikipedia Happy birthday Wikipedia! So glad you exist. @TheOnion Guess you been watching Cobra Kai   \n",
       "2021-01-20                                                                                                                                                                                                                                                                                                                                                                                                                                                                                                                                                                                                                                                                                                                                                                                                                                                                                                                                                                                                                                                                                                                                                                                                                                                                                                                                                                                                                                                                                                                                                                                                                                                                                                                                                                                       \n",
       "\n",
       "                                                                                                                                                                                                                                                                                                                                                                                                                                                                                                                                                                                                                                                                                                                                                                                                                                                                                                                                                                                                                                                                                                                                                                                                                                                                                                                                                                                         cleaned_tweet  \\\n",
       "date                                                                                                                                                                                                                                                                                                                                                                                                                                                                                                                                                                                                                                                                                                                                                                                                                                                                                                                                                                                                                                                                                                                                                                                                                                                                                                                                                                                                     \n",
       "2021-01-19    The rate-limiting part or process in cell production is constantly changing   Cars &amp; trucks stuck in traffic generate megatons of toxic gases &amp; particulate, but  road tunnels under Miami would solve traffic &amp; be an example to the world.   Spoke with  about tunnels last week. If Governor &amp; Mayor want this done, we will do it.    With our giant casting machines, we are literally trying to make full-size cars in the same way that toy cars are made   Tegmark is an exceptionally smart &amp; good human  The best manufacturing technology is in ultra high volume industries, like food &amp; beverage, some medical (eg syringes) &amp; toys Battery cell production is the fundamental rate-limiter slowing down a sustainable energy future. Very important problem.  Looking into this. No question that FSD should be viewed as reasonably valuable when doing a trade-in.   For sure  Glad you’re ok  Congratulations!  This is a good one  I whistle    Cybertruck doesn’t need a garage   It will be awesome  Good point  Your server-side code is doing too much  Happy birthday Wikipedia! So glad you exist.  Guess you been watching Cobra Kai    Cybertruck doesn’t need a garage   It will be awesome  Good point  Your server-side code is doing too much  Happy birthday Wikipedia! So glad you exist.  Guess you been watching Cobra Kai   \n",
       "2021-01-20                                                                                                                                                                                                                                                                                                                                                                                                                                                                                                                                                                                                                                                                                                                                                                                                                                                                                                                                                                                                                                                                                                                                                                                                                                                                                                                                                                                               \n",
       "\n",
       "            Compound  Positive  Negative  Neutral  neg_enc  neu_enc  pos_enc  \\\n",
       "date                                                                           \n",
       "2021-01-19     0.998     0.316     0.031    0.653      0.0      0.0      1.0   \n",
       "2021-01-20     0.000     0.000     0.000    0.000      0.0      1.0      0.0   \n",
       "\n",
       "            Sentiment  \\\n",
       "date                    \n",
       "2021-01-19          0   \n",
       "2021-01-20          0   \n",
       "\n",
       "                                                                                                                                                                                                                                                                                                                                                                                                                                                                                                                                                                                                                                                                                                                                                                                                                                                                          tokens  \n",
       "date                                                                                                                                                                                                                                                                                                                                                                                                                                                                                                                                                                                                                                                                                                                                                                                                                                                                              \n",
       "2021-01-19  [rate-limiting, part, process, cell, production, constantly, changing, Cars, truck, stuck, traffic, generate, megaton, toxic, gas, particulate, road, tunnel, Miami, solve, traffic, example, world, Spoke, tunnel, last, week, Governor, Mayor, want, done, giant, casting, machine, literally, trying, make, full-size, car, way, toy, car, made, Tegmark, exceptionally, smart, good, human, best, manufacturing, technology, ultra, high, volume, industry, like, food, beverage, medical, eg, syrinx, toy, Battery, cell, production, fundamental, rate-limiter, slowing, sustainable, energy, future, important, problem, Looking, question, FSD, viewed, reasonably, valuable, trade-in, sure, Glad, ok, Congratulations, good, one, whistle, Cybertruck, need, garage, awesome, Good, point, server-side, code, much, Happy, birthday, Wikipedia, glad, ...]  \n",
       "2021-01-20                                                                                                                                                                                                                                                                                                                                                                                                                                                                                                                                                                                                                                                                                                                                                                                                                                                                    []  "
      ]
     },
     "execution_count": 28,
     "metadata": {},
     "output_type": "execute_result"
    }
   ],
   "source": [
    "# Function to rearrange columns in a DataFrame\n",
    "\n",
    "def arrange_columns(df): \n",
    "    \"\"\"Arrange columns in a DataFrame\"\"\"\n",
    "    \n",
    "    cols = df.columns.tolist()\n",
    "    cols = cols[:6] + cols[-3:] + cols[6:8]\n",
    "    df = df[cols]\n",
    "    return df\n",
    "\n",
    "tweets_data = arrange_columns(tweets_data)\n",
    "tweets_data.tail(2)"
   ]
  },
  {
   "cell_type": "code",
   "execution_count": 29,
   "metadata": {},
   "outputs": [],
   "source": [
    "file_name=\"tokens_n_vader_sentiment.csv\"\n",
    "\n",
    "output_file = Path(f\"../Resources/{file_name}\")\n",
    "tweets_data.to_csv(f\"{output_file}\")\n"
   ]
  },
  {
   "cell_type": "code",
   "execution_count": 30,
   "metadata": {},
   "outputs": [
    {
     "data": {
      "text/plain": [
       "1.0    1668\n",
       "0.0     991\n",
       "Name: neu_enc, dtype: int64"
      ]
     },
     "execution_count": 30,
     "metadata": {},
     "output_type": "execute_result"
    }
   ],
   "source": [
    "tweets_data['neu_enc'].value_counts()"
   ]
  },
  {
   "cell_type": "markdown",
   "metadata": {},
   "source": [
    "---\n",
    "# Word Clouds"
   ]
  },
  {
   "cell_type": "code",
   "execution_count": 31,
   "metadata": {},
   "outputs": [],
   "source": [
    "from wordcloud import WordCloud\n",
    "import matplotlib.pyplot as plt\n",
    "from PIL import Image\n",
    "plt.style.use('seaborn-whitegrid')\n",
    "import matplotlib as mpl\n",
    "mpl.rcParams['figure.figsize'] = [20.0, 10.0]"
   ]
  },
  {
   "cell_type": "code",
   "execution_count": 32,
   "metadata": {},
   "outputs": [],
   "source": [
    "keywords = ['model_3', 'model_x', 'coming_soon', 'next_week',\n",
    "            'next_year', 'sustainable_energy',  'climate_change',\n",
    "            'giga_berlin', 'falcon_9', 'falcon_heavy', 'next_month', \n",
    "            'space_station', 'electric_car', 'software_update', \n",
    "            'dual_motor', 'self_driving', 'rocket', 'engine', \n",
    "            'solar_power', 'SpaceX', 'launch', 'production', \n",
    "            'starship', 'mars', 'time', 'soon', 'tesla'\n",
    "           ]\n",
    "\n",
    "keywords1 = ['launch', 'production', 'starship', \n",
    "             'mars', 'time', 'rocket', \n",
    "             'soon', 'tesla', 'spacex'\n",
    "            ]"
   ]
  },
  {
   "cell_type": "code",
   "execution_count": 33,
   "metadata": {},
   "outputs": [
    {
     "data": {
      "image/png": "[encoded data removed]",
      "text/plain": [
       "<Figure size 1440x720 with 1 Axes>"
      ]
     },
     "metadata": {},
     "output_type": "display_data"
    }
   ],
   "source": [
    "# Load the image\n",
    "wave_mask = np.array(Image.open(\"twitter.jpg\"))\n",
    "\n",
    "# Generate the Tweet word cloud\n",
    "keywords = ' '.join(keywords)\n",
    "wc = WordCloud(mask=wave_mask).generate(keywords)\n",
    "plt.figure()\n",
    "plt.imshow(wc, interpolation=\"bilinear\")\n",
    "plt.axis(\"off\")\n",
    "plt.margins(x=0, y=0)\n",
    "plt.show()"
   ]
  }
 ],
 "metadata": {
  "kernelspec": {
   "display_name": "nlp",
   "language": "python",
   "name": "nlp"
  },
  "language_info": {
   "codemirror_mode": {
    "name": "ipython",
    "version": 3
   },
   "file_extension": ".py",
   "mimetype": "text/x-python",
   "name": "python",
   "nbconvert_exporter": "python",
   "pygments_lexer": "ipython3",
   "version": "3.7.9"
  }
 },
 "nbformat": 4,
 "nbformat_minor": 4
}
