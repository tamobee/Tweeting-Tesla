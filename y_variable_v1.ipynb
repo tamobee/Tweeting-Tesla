{
 "cells": [
  {
   "cell_type": "markdown",
   "metadata": {},
   "source": [
    "# Generating Y Variable"
   ]
  },
  {
   "cell_type": "code",
   "execution_count": 1,
   "metadata": {},
   "outputs": [],
   "source": [
    "# Initial imports\n",
    "import os\n",
    "import requests\n",
    "import pandas as pd\n",
    "from dotenv import load_dotenv\n",
    "import alpaca_trade_api as tradeapi\n",
    "\n",
    "%matplotlib inline"
   ]
  },
  {
   "cell_type": "code",
   "execution_count": 2,
   "metadata": {},
   "outputs": [
    {
     "data": {
      "text/plain": [
       "True"
      ]
     },
     "execution_count": 2,
     "metadata": {},
     "output_type": "execute_result"
    }
   ],
   "source": [
    "# Load .env environment variables\n",
    "load_dotenv()"
   ]
  },
  {
   "cell_type": "code",
   "execution_count": 3,
   "metadata": {},
   "outputs": [],
   "source": [
    "# Set Alpaca API key and secret\n",
    "alpaca_api_key = os.getenv(\"ALPACA_API_KEY\")\n",
    "alpaca_secret_key = os.getenv(\"ALPACA_SECRET_KEY\")"
   ]
  },
  {
   "cell_type": "code",
   "execution_count": 4,
   "metadata": {},
   "outputs": [
    {
     "name": "stdout",
     "output_type": "stream",
     "text": [
      "Alpaca Key type: <class 'str'>\n",
      "Alpaca Secret Key type: <class 'str'>\n"
     ]
    }
   ],
   "source": [
    "# Verify that Alpaca key and secret were correctly loaded\n",
    "print(f\"Alpaca Key type: {type(alpaca_api_key)}\")\n",
    "print(f\"Alpaca Secret Key type: {type(alpaca_secret_key)}\")"
   ]
  },
  {
   "cell_type": "code",
   "execution_count": 5,
   "metadata": {},
   "outputs": [],
   "source": [
    "# Create the Alpaca API object\n",
    "alpaca = tradeapi.REST(\n",
    "    alpaca_api_key,\n",
    "    alpaca_secret_key,\n",
    "    api_version=\"v2\")"
   ]
  },
  {
   "cell_type": "code",
   "execution_count": 6,
   "metadata": {},
   "outputs": [],
   "source": [
    "# Format current date as ISO format\n",
    "today = pd.Timestamp(\"2021-01-14\", tz=\"America/New_York\").isoformat()"
   ]
  },
  {
   "cell_type": "code",
   "execution_count": 7,
   "metadata": {},
   "outputs": [],
   "source": [
    "# Set the tickers\n",
    "tickers = [\"TSLA\", \"QQQ\"]"
   ]
  },
  {
   "cell_type": "code",
   "execution_count": 8,
   "metadata": {},
   "outputs": [],
   "source": [
    "# Set timeframe to one day ('1D') for the Alpaca API\n",
    "timeframe = \"1D\""
   ]
  },
  {
   "cell_type": "code",
   "execution_count": 9,
   "metadata": {},
   "outputs": [],
   "source": [
    "# Format start and end dates as ISO format for one year period\n",
    "start = pd.Timestamp(\"2010-06-29\", tz=\"America/New_York\").isoformat()\n",
    "end = today"
   ]
  },
  {
   "cell_type": "code",
   "execution_count": 10,
   "metadata": {},
   "outputs": [
    {
     "data": {
      "text/html": [
       "<div>\n",
       "<style scoped>\n",
       "    .dataframe tbody tr th:only-of-type {\n",
       "        vertical-align: middle;\n",
       "    }\n",
       "\n",
       "    .dataframe tbody tr th {\n",
       "        vertical-align: top;\n",
       "    }\n",
       "\n",
       "    .dataframe thead tr th {\n",
       "        text-align: left;\n",
       "    }\n",
       "\n",
       "    .dataframe thead tr:last-of-type th {\n",
       "        text-align: right;\n",
       "    }\n",
       "</style>\n",
       "<table border=\"1\" class=\"dataframe\">\n",
       "  <thead>\n",
       "    <tr>\n",
       "      <th></th>\n",
       "      <th colspan=\"5\" halign=\"left\">QQQ</th>\n",
       "      <th colspan=\"5\" halign=\"left\">TSLA</th>\n",
       "    </tr>\n",
       "    <tr>\n",
       "      <th></th>\n",
       "      <th>open</th>\n",
       "      <th>high</th>\n",
       "      <th>low</th>\n",
       "      <th>close</th>\n",
       "      <th>volume</th>\n",
       "      <th>open</th>\n",
       "      <th>high</th>\n",
       "      <th>low</th>\n",
       "      <th>close</th>\n",
       "      <th>volume</th>\n",
       "    </tr>\n",
       "    <tr>\n",
       "      <th>time</th>\n",
       "      <th></th>\n",
       "      <th></th>\n",
       "      <th></th>\n",
       "      <th></th>\n",
       "      <th></th>\n",
       "      <th></th>\n",
       "      <th></th>\n",
       "      <th></th>\n",
       "      <th></th>\n",
       "      <th></th>\n",
       "    </tr>\n",
       "  </thead>\n",
       "  <tbody>\n",
       "    <tr>\n",
       "      <th>2010-06-29 00:00:00-04:00</th>\n",
       "      <td>44.42</td>\n",
       "      <td>44.46</td>\n",
       "      <td>43.07</td>\n",
       "      <td>43.40</td>\n",
       "      <td>122444896</td>\n",
       "      <td>19.0000</td>\n",
       "      <td>25.0000</td>\n",
       "      <td>17.54</td>\n",
       "      <td>23.94</td>\n",
       "      <td>18586286</td>\n",
       "    </tr>\n",
       "    <tr>\n",
       "      <th>2010-06-30 00:00:00-04:00</th>\n",
       "      <td>43.26</td>\n",
       "      <td>43.67</td>\n",
       "      <td>39.07</td>\n",
       "      <td>39.16</td>\n",
       "      <td>91124497</td>\n",
       "      <td>25.8800</td>\n",
       "      <td>30.4192</td>\n",
       "      <td>23.30</td>\n",
       "      <td>23.63</td>\n",
       "      <td>16740222</td>\n",
       "    </tr>\n",
       "    <tr>\n",
       "      <th>2010-07-01 00:00:00-04:00</th>\n",
       "      <td>42.82</td>\n",
       "      <td>42.96</td>\n",
       "      <td>41.77</td>\n",
       "      <td>42.58</td>\n",
       "      <td>139969730</td>\n",
       "      <td>25.0000</td>\n",
       "      <td>25.9200</td>\n",
       "      <td>20.27</td>\n",
       "      <td>21.90</td>\n",
       "      <td>8045449</td>\n",
       "    </tr>\n",
       "    <tr>\n",
       "      <th>2010-07-02 00:00:00-04:00</th>\n",
       "      <td>39.12</td>\n",
       "      <td>39.26</td>\n",
       "      <td>38.59</td>\n",
       "      <td>38.94</td>\n",
       "      <td>68320988</td>\n",
       "      <td>23.0000</td>\n",
       "      <td>23.1000</td>\n",
       "      <td>18.71</td>\n",
       "      <td>19.20</td>\n",
       "      <td>4977765</td>\n",
       "    </tr>\n",
       "    <tr>\n",
       "      <th>2010-07-06 00:00:00-04:00</th>\n",
       "      <td>43.09</td>\n",
       "      <td>43.37</td>\n",
       "      <td>42.25</td>\n",
       "      <td>42.60</td>\n",
       "      <td>75246089</td>\n",
       "      <td>20.0000</td>\n",
       "      <td>20.0000</td>\n",
       "      <td>15.83</td>\n",
       "      <td>15.98</td>\n",
       "      <td>6640566</td>\n",
       "    </tr>\n",
       "    <tr>\n",
       "      <th>2010-07-07 00:00:00-04:00</th>\n",
       "      <td>42.74</td>\n",
       "      <td>44.01</td>\n",
       "      <td>42.70</td>\n",
       "      <td>43.96</td>\n",
       "      <td>66204299</td>\n",
       "      <td>16.4000</td>\n",
       "      <td>16.6300</td>\n",
       "      <td>14.98</td>\n",
       "      <td>15.74</td>\n",
       "      <td>6805662</td>\n",
       "    </tr>\n",
       "    <tr>\n",
       "      <th>2010-07-08 00:00:00-04:00</th>\n",
       "      <td>44.30</td>\n",
       "      <td>44.38</td>\n",
       "      <td>43.68</td>\n",
       "      <td>44.18</td>\n",
       "      <td>64082460</td>\n",
       "      <td>16.1400</td>\n",
       "      <td>17.5200</td>\n",
       "      <td>15.57</td>\n",
       "      <td>17.46</td>\n",
       "      <td>7534993</td>\n",
       "    </tr>\n",
       "    <tr>\n",
       "      <th>2010-07-09 00:00:00-04:00</th>\n",
       "      <td>44.18</td>\n",
       "      <td>44.63</td>\n",
       "      <td>44.08</td>\n",
       "      <td>44.60</td>\n",
       "      <td>43646249</td>\n",
       "      <td>17.5200</td>\n",
       "      <td>17.9000</td>\n",
       "      <td>16.55</td>\n",
       "      <td>17.33</td>\n",
       "      <td>3241859</td>\n",
       "    </tr>\n",
       "    <tr>\n",
       "      <th>2010-07-12 00:00:00-04:00</th>\n",
       "      <td>44.58</td>\n",
       "      <td>45.03</td>\n",
       "      <td>44.46</td>\n",
       "      <td>44.75</td>\n",
       "      <td>55648409</td>\n",
       "      <td>17.9600</td>\n",
       "      <td>18.0700</td>\n",
       "      <td>17.00</td>\n",
       "      <td>17.00</td>\n",
       "      <td>1724816</td>\n",
       "    </tr>\n",
       "    <tr>\n",
       "      <th>2010-07-13 00:00:00-04:00</th>\n",
       "      <td>45.13</td>\n",
       "      <td>45.50</td>\n",
       "      <td>44.80</td>\n",
       "      <td>45.33</td>\n",
       "      <td>72782445</td>\n",
       "      <td>17.3938</td>\n",
       "      <td>18.4500</td>\n",
       "      <td>16.90</td>\n",
       "      <td>18.07</td>\n",
       "      <td>2158008</td>\n",
       "    </tr>\n",
       "  </tbody>\n",
       "</table>\n",
       "</div>"
      ],
      "text/plain": [
       "                             QQQ                                     TSLA  \\\n",
       "                            open   high    low  close     volume     open   \n",
       "time                                                                        \n",
       "2010-06-29 00:00:00-04:00  44.42  44.46  43.07  43.40  122444896  19.0000   \n",
       "2010-06-30 00:00:00-04:00  43.26  43.67  39.07  39.16   91124497  25.8800   \n",
       "2010-07-01 00:00:00-04:00  42.82  42.96  41.77  42.58  139969730  25.0000   \n",
       "2010-07-02 00:00:00-04:00  39.12  39.26  38.59  38.94   68320988  23.0000   \n",
       "2010-07-06 00:00:00-04:00  43.09  43.37  42.25  42.60   75246089  20.0000   \n",
       "2010-07-07 00:00:00-04:00  42.74  44.01  42.70  43.96   66204299  16.4000   \n",
       "2010-07-08 00:00:00-04:00  44.30  44.38  43.68  44.18   64082460  16.1400   \n",
       "2010-07-09 00:00:00-04:00  44.18  44.63  44.08  44.60   43646249  17.5200   \n",
       "2010-07-12 00:00:00-04:00  44.58  45.03  44.46  44.75   55648409  17.9600   \n",
       "2010-07-13 00:00:00-04:00  45.13  45.50  44.80  45.33   72782445  17.3938   \n",
       "\n",
       "                                                            \n",
       "                              high    low  close    volume  \n",
       "time                                                        \n",
       "2010-06-29 00:00:00-04:00  25.0000  17.54  23.94  18586286  \n",
       "2010-06-30 00:00:00-04:00  30.4192  23.30  23.63  16740222  \n",
       "2010-07-01 00:00:00-04:00  25.9200  20.27  21.90   8045449  \n",
       "2010-07-02 00:00:00-04:00  23.1000  18.71  19.20   4977765  \n",
       "2010-07-06 00:00:00-04:00  20.0000  15.83  15.98   6640566  \n",
       "2010-07-07 00:00:00-04:00  16.6300  14.98  15.74   6805662  \n",
       "2010-07-08 00:00:00-04:00  17.5200  15.57  17.46   7534993  \n",
       "2010-07-09 00:00:00-04:00  17.9000  16.55  17.33   3241859  \n",
       "2010-07-12 00:00:00-04:00  18.0700  17.00  17.00   1724816  \n",
       "2010-07-13 00:00:00-04:00  18.4500  16.90  18.07   2158008  "
      ]
     },
     "execution_count": 10,
     "metadata": {},
     "output_type": "execute_result"
    }
   ],
   "source": [
    "# Get closing prices for TWTR and QQQ from the last year\n",
    "df_portfolio_year = alpaca.get_barset(\n",
    "    tickers,\n",
    "    timeframe,\n",
    "    start = start,\n",
    "    end = end\n",
    ").df\n",
    "\n",
    "# Display sample data\n",
    "df_portfolio_year.head(10)"
   ]
  },
  {
   "cell_type": "code",
   "execution_count": 11,
   "metadata": {},
   "outputs": [
    {
     "data": {
      "text/html": [
       "<div>\n",
       "<style scoped>\n",
       "    .dataframe tbody tr th:only-of-type {\n",
       "        vertical-align: middle;\n",
       "    }\n",
       "\n",
       "    .dataframe tbody tr th {\n",
       "        vertical-align: top;\n",
       "    }\n",
       "\n",
       "    .dataframe thead th {\n",
       "        text-align: right;\n",
       "    }\n",
       "</style>\n",
       "<table border=\"1\" class=\"dataframe\">\n",
       "  <thead>\n",
       "    <tr style=\"text-align: right;\">\n",
       "      <th></th>\n",
       "      <th>TSLA</th>\n",
       "      <th>QQQ</th>\n",
       "    </tr>\n",
       "  </thead>\n",
       "  <tbody>\n",
       "    <tr>\n",
       "      <th>2010-06-29</th>\n",
       "      <td>23.9400</td>\n",
       "      <td>43.40</td>\n",
       "    </tr>\n",
       "    <tr>\n",
       "      <th>2010-06-30</th>\n",
       "      <td>23.6300</td>\n",
       "      <td>39.16</td>\n",
       "    </tr>\n",
       "    <tr>\n",
       "      <th>2010-07-01</th>\n",
       "      <td>21.9000</td>\n",
       "      <td>42.58</td>\n",
       "    </tr>\n",
       "    <tr>\n",
       "      <th>2010-07-02</th>\n",
       "      <td>19.2000</td>\n",
       "      <td>38.94</td>\n",
       "    </tr>\n",
       "    <tr>\n",
       "      <th>2010-07-06</th>\n",
       "      <td>15.9800</td>\n",
       "      <td>42.60</td>\n",
       "    </tr>\n",
       "    <tr>\n",
       "      <th>...</th>\n",
       "      <td>...</td>\n",
       "      <td>...</td>\n",
       "    </tr>\n",
       "    <tr>\n",
       "      <th>2010-11-11</th>\n",
       "      <td>28.0000</td>\n",
       "      <td>49.05</td>\n",
       "    </tr>\n",
       "    <tr>\n",
       "      <th>2010-11-12</th>\n",
       "      <td>29.7600</td>\n",
       "      <td>48.25</td>\n",
       "    </tr>\n",
       "    <tr>\n",
       "      <th>2010-11-15</th>\n",
       "      <td>30.8000</td>\n",
       "      <td>48.07</td>\n",
       "    </tr>\n",
       "    <tr>\n",
       "      <th>2010-11-16</th>\n",
       "      <td>29.6899</td>\n",
       "      <td>47.28</td>\n",
       "    </tr>\n",
       "    <tr>\n",
       "      <th>2010-11-17</th>\n",
       "      <td>29.4400</td>\n",
       "      <td>47.42</td>\n",
       "    </tr>\n",
       "  </tbody>\n",
       "</table>\n",
       "<p>100 rows × 2 columns</p>\n",
       "</div>"
      ],
      "text/plain": [
       "               TSLA    QQQ\n",
       "2010-06-29  23.9400  43.40\n",
       "2010-06-30  23.6300  39.16\n",
       "2010-07-01  21.9000  42.58\n",
       "2010-07-02  19.2000  38.94\n",
       "2010-07-06  15.9800  42.60\n",
       "...             ...    ...\n",
       "2010-11-11  28.0000  49.05\n",
       "2010-11-12  29.7600  48.25\n",
       "2010-11-15  30.8000  48.07\n",
       "2010-11-16  29.6899  47.28\n",
       "2010-11-17  29.4400  47.42\n",
       "\n",
       "[100 rows x 2 columns]"
      ]
     },
     "execution_count": 11,
     "metadata": {},
     "output_type": "execute_result"
    }
   ],
   "source": [
    "# Create and empty DataFrame for closing prices\n",
    "df_closing_prices = pd.DataFrame()\n",
    "\n",
    "# Fetch the closing prices of FB and TWTR\n",
    "df_closing_prices[\"TSLA\"] = df_portfolio_year[\"TSLA\"][\"close\"]\n",
    "df_closing_prices[\"QQQ\"] = df_portfolio_year[\"QQQ\"][\"close\"]\n",
    "\n",
    "# Drop the time component of the date\n",
    "df_closing_prices.index = df_closing_prices.index.date\n",
    "\n",
    "# Display sample data\n",
    "df_closing_prices.head(100)"
   ]
  },
  {
   "cell_type": "code",
   "execution_count": 12,
   "metadata": {},
   "outputs": [
    {
     "data": {
      "text/html": [
       "<div>\n",
       "<style scoped>\n",
       "    .dataframe tbody tr th:only-of-type {\n",
       "        vertical-align: middle;\n",
       "    }\n",
       "\n",
       "    .dataframe tbody tr th {\n",
       "        vertical-align: top;\n",
       "    }\n",
       "\n",
       "    .dataframe thead th {\n",
       "        text-align: right;\n",
       "    }\n",
       "</style>\n",
       "<table border=\"1\" class=\"dataframe\">\n",
       "  <thead>\n",
       "    <tr style=\"text-align: right;\">\n",
       "      <th></th>\n",
       "      <th>TSLA</th>\n",
       "      <th>QQQ</th>\n",
       "      <th>Differential</th>\n",
       "    </tr>\n",
       "  </thead>\n",
       "  <tbody>\n",
       "    <tr>\n",
       "      <th>2010-06-30</th>\n",
       "      <td>-0.012949</td>\n",
       "      <td>-0.097696</td>\n",
       "      <td>0.084747</td>\n",
       "    </tr>\n",
       "    <tr>\n",
       "      <th>2010-07-01</th>\n",
       "      <td>-0.073212</td>\n",
       "      <td>0.087334</td>\n",
       "      <td>-0.160546</td>\n",
       "    </tr>\n",
       "    <tr>\n",
       "      <th>2010-07-02</th>\n",
       "      <td>-0.123288</td>\n",
       "      <td>-0.085486</td>\n",
       "      <td>-0.037802</td>\n",
       "    </tr>\n",
       "    <tr>\n",
       "      <th>2010-07-06</th>\n",
       "      <td>-0.167708</td>\n",
       "      <td>0.093991</td>\n",
       "      <td>-0.261699</td>\n",
       "    </tr>\n",
       "    <tr>\n",
       "      <th>2010-07-07</th>\n",
       "      <td>-0.015019</td>\n",
       "      <td>0.031925</td>\n",
       "      <td>-0.046944</td>\n",
       "    </tr>\n",
       "  </tbody>\n",
       "</table>\n",
       "</div>"
      ],
      "text/plain": [
       "                TSLA       QQQ  Differential\n",
       "2010-06-30 -0.012949 -0.097696      0.084747\n",
       "2010-07-01 -0.073212  0.087334     -0.160546\n",
       "2010-07-02 -0.123288 -0.085486     -0.037802\n",
       "2010-07-06 -0.167708  0.093991     -0.261699\n",
       "2010-07-07 -0.015019  0.031925     -0.046944"
      ]
     },
     "execution_count": 12,
     "metadata": {},
     "output_type": "execute_result"
    }
   ],
   "source": [
    "# Compute daily returns\n",
    "df_daily_returns = df_closing_prices.pct_change().dropna()\n",
    "df_daily_returns['Differential']=df_daily_returns['TSLA']-df_daily_returns['QQQ']\n",
    "# Display sample data\n",
    "df_daily_returns.head()"
   ]
  },
  {
   "cell_type": "code",
   "execution_count": 13,
   "metadata": {},
   "outputs": [
    {
     "data": {
      "text/plain": [
       "<AxesSubplot:title={'center':'Daily Returns Differential of TSLA and QQQ since June 29, 2010'}>"
      ]
     },
     "execution_count": 13,
     "metadata": {},
     "output_type": "execute_result"
    },
    {
     "data": {
      "image/png": "[encoded data removed]",
      "text/plain": [
       "<Figure size 432x288 with 1 Axes>"
      ]
     },
     "metadata": {
      "needs_background": "light"
     },
     "output_type": "display_data"
    }
   ],
   "source": [
    "# Plot daily returns\n",
    "df_daily_returns['Differential'].plot(title=\"Daily Returns Differential of TSLA and QQQ since June 29, 2010\")"
   ]
  },
  {
   "cell_type": "code",
   "execution_count": null,
   "metadata": {},
   "outputs": [],
   "source": []
  }
 ],
 "metadata": {
  "kernelspec": {
   "display_name": "alpacaenv",
   "language": "python",
   "name": "alpacaenv"
  },
  "language_info": {
   "codemirror_mode": {
    "name": "ipython",
    "version": 3
   },
   "file_extension": ".py",
   "mimetype": "text/x-python",
   "name": "python",
   "nbconvert_exporter": "python",
   "pygments_lexer": "ipython3",
   "version": "3.8.3"
  }
 },
 "nbformat": 4,
 "nbformat_minor": 4
}
